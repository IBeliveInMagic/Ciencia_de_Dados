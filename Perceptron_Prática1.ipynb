{
  "nbformat": 4,
  "nbformat_minor": 0,
  "metadata": {
    "colab": {
      "name": "Perceptron-Prática1.ipynb",
      "provenance": [],
      "collapsed_sections": [],
      "authorship_tag": "ABX9TyOsE3K3PbpWAPrQ+l+Hrz0f",
      "include_colab_link": true
    },
    "kernelspec": {
      "name": "python3",
      "display_name": "Python 3"
    },
    "language_info": {
      "name": "python"
    }
  },
  "cells": [
    {
      "cell_type": "markdown",
      "metadata": {
        "id": "view-in-github",
        "colab_type": "text"
      },
      "source": [
        "<a href=\"https://colab.research.google.com/github/IBeliveInMagic/Ciencia_de_Dados/blob/main/Perceptron_Pr%C3%A1tica1.ipynb\" target=\"_parent\"><img src=\"https://colab.research.google.com/assets/colab-badge.svg\" alt=\"Open In Colab\"/></a>"
      ]
    },
    {
      "cell_type": "markdown",
      "source": [
        "# **Importar bibliotecas**"
      ],
      "metadata": {
        "id": "9nLH3SMz45gg"
      }
    },
    {
      "cell_type": "code",
      "source": [
        "import numpy as np\n",
        "import pandas as pd\n",
        "import random "
      ],
      "metadata": {
        "id": "giNHefOu2F6x"
      },
      "execution_count": 538,
      "outputs": []
    },
    {
      "cell_type": "markdown",
      "source": [
        "#**Treinamento 1**\n"
      ],
      "metadata": {
        "id": "xfLjeBaYT_ad"
      }
    },
    {
      "cell_type": "code",
      "execution_count": 539,
      "metadata": {
        "id": "E2BAXxOz1iI7"
      },
      "outputs": [],
      "source": [
        "#Dataframe com os Nomes , Variáveis e Saídas para diferenciarmos Compositor de Cientista\n",
        "# Compositor = 0 ; Cientista  1 \n",
        "Data = {\n",
        "    \n",
        "    'Nomes' : ['Kepler','Einstein','Bach','Beethoven'],\n",
        "    'N1' : [1,1,0,0],\n",
        "    'N2' : [1,0,0,1],\n",
        "    'Saída' : [1,1,0,0]\n",
        "}"
      ]
    },
    {
      "cell_type": "code",
      "source": [
        "df = pd.DataFrame(Data)"
      ],
      "metadata": {
        "id": "UFcJ7ssw3HWN"
      },
      "execution_count": 540,
      "outputs": []
    },
    {
      "cell_type": "code",
      "source": [
        "df"
      ],
      "metadata": {
        "id": "vou4jysD3U76",
        "colab": {
          "base_uri": "https://localhost:8080/",
          "height": 175
        },
        "outputId": "a09261a6-94af-499e-f0b3-e1fc227e0b8f"
      },
      "execution_count": 541,
      "outputs": [
        {
          "output_type": "execute_result",
          "data": {
            "text/plain": [
              "       Nomes  N1  N2  Saída\n",
              "0     Kepler   1   1      1\n",
              "1   Einstein   1   0      1\n",
              "2       Bach   0   0      0\n",
              "3  Beethoven   0   1      0"
            ],
            "text/html": [
              "\n",
              "  <div id=\"df-7e3f19dd-4deb-4d07-ba13-945672edd99d\">\n",
              "    <div class=\"colab-df-container\">\n",
              "      <div>\n",
              "<style scoped>\n",
              "    .dataframe tbody tr th:only-of-type {\n",
              "        vertical-align: middle;\n",
              "    }\n",
              "\n",
              "    .dataframe tbody tr th {\n",
              "        vertical-align: top;\n",
              "    }\n",
              "\n",
              "    .dataframe thead th {\n",
              "        text-align: right;\n",
              "    }\n",
              "</style>\n",
              "<table border=\"1\" class=\"dataframe\">\n",
              "  <thead>\n",
              "    <tr style=\"text-align: right;\">\n",
              "      <th></th>\n",
              "      <th>Nomes</th>\n",
              "      <th>N1</th>\n",
              "      <th>N2</th>\n",
              "      <th>Saída</th>\n",
              "    </tr>\n",
              "  </thead>\n",
              "  <tbody>\n",
              "    <tr>\n",
              "      <th>0</th>\n",
              "      <td>Kepler</td>\n",
              "      <td>1</td>\n",
              "      <td>1</td>\n",
              "      <td>1</td>\n",
              "    </tr>\n",
              "    <tr>\n",
              "      <th>1</th>\n",
              "      <td>Einstein</td>\n",
              "      <td>1</td>\n",
              "      <td>0</td>\n",
              "      <td>1</td>\n",
              "    </tr>\n",
              "    <tr>\n",
              "      <th>2</th>\n",
              "      <td>Bach</td>\n",
              "      <td>0</td>\n",
              "      <td>0</td>\n",
              "      <td>0</td>\n",
              "    </tr>\n",
              "    <tr>\n",
              "      <th>3</th>\n",
              "      <td>Beethoven</td>\n",
              "      <td>0</td>\n",
              "      <td>1</td>\n",
              "      <td>0</td>\n",
              "    </tr>\n",
              "  </tbody>\n",
              "</table>\n",
              "</div>\n",
              "      <button class=\"colab-df-convert\" onclick=\"convertToInteractive('df-7e3f19dd-4deb-4d07-ba13-945672edd99d')\"\n",
              "              title=\"Convert this dataframe to an interactive table.\"\n",
              "              style=\"display:none;\">\n",
              "        \n",
              "  <svg xmlns=\"http://www.w3.org/2000/svg\" height=\"24px\"viewBox=\"0 0 24 24\"\n",
              "       width=\"24px\">\n",
              "    <path d=\"M0 0h24v24H0V0z\" fill=\"none\"/>\n",
              "    <path d=\"M18.56 5.44l.94 2.06.94-2.06 2.06-.94-2.06-.94-.94-2.06-.94 2.06-2.06.94zm-11 1L8.5 8.5l.94-2.06 2.06-.94-2.06-.94L8.5 2.5l-.94 2.06-2.06.94zm10 10l.94 2.06.94-2.06 2.06-.94-2.06-.94-.94-2.06-.94 2.06-2.06.94z\"/><path d=\"M17.41 7.96l-1.37-1.37c-.4-.4-.92-.59-1.43-.59-.52 0-1.04.2-1.43.59L10.3 9.45l-7.72 7.72c-.78.78-.78 2.05 0 2.83L4 21.41c.39.39.9.59 1.41.59.51 0 1.02-.2 1.41-.59l7.78-7.78 2.81-2.81c.8-.78.8-2.07 0-2.86zM5.41 20L4 18.59l7.72-7.72 1.47 1.35L5.41 20z\"/>\n",
              "  </svg>\n",
              "      </button>\n",
              "      \n",
              "  <style>\n",
              "    .colab-df-container {\n",
              "      display:flex;\n",
              "      flex-wrap:wrap;\n",
              "      gap: 12px;\n",
              "    }\n",
              "\n",
              "    .colab-df-convert {\n",
              "      background-color: #E8F0FE;\n",
              "      border: none;\n",
              "      border-radius: 50%;\n",
              "      cursor: pointer;\n",
              "      display: none;\n",
              "      fill: #1967D2;\n",
              "      height: 32px;\n",
              "      padding: 0 0 0 0;\n",
              "      width: 32px;\n",
              "    }\n",
              "\n",
              "    .colab-df-convert:hover {\n",
              "      background-color: #E2EBFA;\n",
              "      box-shadow: 0px 1px 2px rgba(60, 64, 67, 0.3), 0px 1px 3px 1px rgba(60, 64, 67, 0.15);\n",
              "      fill: #174EA6;\n",
              "    }\n",
              "\n",
              "    [theme=dark] .colab-df-convert {\n",
              "      background-color: #3B4455;\n",
              "      fill: #D2E3FC;\n",
              "    }\n",
              "\n",
              "    [theme=dark] .colab-df-convert:hover {\n",
              "      background-color: #434B5C;\n",
              "      box-shadow: 0px 1px 3px 1px rgba(0, 0, 0, 0.15);\n",
              "      filter: drop-shadow(0px 1px 2px rgba(0, 0, 0, 0.3));\n",
              "      fill: #FFFFFF;\n",
              "    }\n",
              "  </style>\n",
              "\n",
              "      <script>\n",
              "        const buttonEl =\n",
              "          document.querySelector('#df-7e3f19dd-4deb-4d07-ba13-945672edd99d button.colab-df-convert');\n",
              "        buttonEl.style.display =\n",
              "          google.colab.kernel.accessAllowed ? 'block' : 'none';\n",
              "\n",
              "        async function convertToInteractive(key) {\n",
              "          const element = document.querySelector('#df-7e3f19dd-4deb-4d07-ba13-945672edd99d');\n",
              "          const dataTable =\n",
              "            await google.colab.kernel.invokeFunction('convertToInteractive',\n",
              "                                                     [key], {});\n",
              "          if (!dataTable) return;\n",
              "\n",
              "          const docLinkHtml = 'Like what you see? Visit the ' +\n",
              "            '<a target=\"_blank\" href=https://colab.research.google.com/notebooks/data_table.ipynb>data table notebook</a>'\n",
              "            + ' to learn more about interactive tables.';\n",
              "          element.innerHTML = '';\n",
              "          dataTable['output_type'] = 'display_data';\n",
              "          await google.colab.output.renderOutput(dataTable, element);\n",
              "          const docLink = document.createElement('div');\n",
              "          docLink.innerHTML = docLinkHtml;\n",
              "          element.appendChild(docLink);\n",
              "        }\n",
              "      </script>\n",
              "    </div>\n",
              "  </div>\n",
              "  "
            ]
          },
          "metadata": {},
          "execution_count": 541
        }
      ]
    },
    {
      "cell_type": "code",
      "source": [
        "bias = 1"
      ],
      "metadata": {
        "id": "DFHrUv-13zMZ"
      },
      "execution_count": 542,
      "outputs": []
    },
    {
      "cell_type": "code",
      "source": [
        "# W e Wnovo armazenam os pesos\n",
        "W = [0,0,0]\n",
        "Wnovo = [0,0,0]"
      ],
      "metadata": {
        "id": "_0gEEhMc3nJ6"
      },
      "execution_count": 543,
      "outputs": []
    },
    {
      "cell_type": "code",
      "source": [
        "# Contador que mostrará quantas vezes foram necessárias para o algoritmo acertar os pesos\n",
        "cont = 0"
      ],
      "metadata": {
        "id": "ueU4XhAX-dBG"
      },
      "execution_count": 544,
      "outputs": []
    },
    {
      "cell_type": "code",
      "source": [
        "# Lista criada para alterar a sequência das linhas do dataFrame \n",
        "list = [0,1,2,3]\n",
        "random.shuffle(list)\n",
        "print(list)"
      ],
      "metadata": {
        "colab": {
          "base_uri": "https://localhost:8080/"
        },
        "id": "YJ-9BE8P9WgF",
        "outputId": "b69059e3-9c2e-49aa-c194-7a5048d9946f"
      },
      "execution_count": 545,
      "outputs": [
        {
          "output_type": "stream",
          "name": "stdout",
          "text": [
            "[1, 3, 0, 2]\n"
          ]
        }
      ]
    },
    {
      "cell_type": "code",
      "source": [
        "# Função escada \n",
        "def Sgn(X):\n",
        "  if X < 0:\n",
        "    Y = 0\n",
        "  else:\n",
        "    Y = 1\n",
        "  return Y "
      ],
      "metadata": {
        "id": "hkcWZSnnAxho"
      },
      "execution_count": 546,
      "outputs": []
    },
    {
      "cell_type": "code",
      "source": [
        "# Algoritmo de treinamento \n",
        "Continue = True\n",
        "while Continue:\n",
        "  Continue = False\n",
        "\n",
        "  for i in list:\n",
        "      sum = Sgn(bias*W[0] + df.loc[i, \"N1\"]*W[1] + df.loc[i, \"N2\"]*W[2])\n",
        "\n",
        "      cont = cont + 1\n",
        "      print(\"Valor obtido:\",sum,\"| Valor esperado:\",df.loc[i, \"Saída\"], \"| Nome:\", df.loc[i,\"Nomes\"])\n",
        "\n",
        "      if sum != df.loc[i, \"Saída\"]:\n",
        "        Erro = df.loc[i, \"Saída\"] - sum\n",
        "        Wnovo[0] = W[0] + (Erro*1*bias)\n",
        "        Wnovo[1] = W[1] + (Erro*1*df.loc[i, \"N1\"])\n",
        "        Wnovo[2] = W[2] + (Erro*1*df.loc[i, \"N2\"])\n",
        "\n",
        "        W = Wnovo\n",
        "        Continue = True\n"
      ],
      "metadata": {
        "id": "Rh2W85m23txS",
        "colab": {
          "base_uri": "https://localhost:8080/"
        },
        "outputId": "72c32812-cac7-46c8-faed-1fe6a486fb11"
      },
      "execution_count": 547,
      "outputs": [
        {
          "output_type": "stream",
          "name": "stdout",
          "text": [
            "Valor obtido: 1 | Valor esperado: 1 | Nome: Einstein\n",
            "Valor obtido: 1 | Valor esperado: 0 | Nome: Beethoven\n",
            "Valor obtido: 0 | Valor esperado: 1 | Nome: Kepler\n",
            "Valor obtido: 1 | Valor esperado: 0 | Nome: Bach\n",
            "Valor obtido: 1 | Valor esperado: 1 | Nome: Einstein\n",
            "Valor obtido: 0 | Valor esperado: 0 | Nome: Beethoven\n",
            "Valor obtido: 1 | Valor esperado: 1 | Nome: Kepler\n",
            "Valor obtido: 0 | Valor esperado: 0 | Nome: Bach\n"
          ]
        }
      ]
    },
    {
      "cell_type": "code",
      "source": [
        "# Imprimindo as variáveis obtidas no treinamento\n",
        "print(\"Contador:\", cont)\n",
        "print(\"\\n\")\n",
        "print(\"Pesos:\", W)"
      ],
      "metadata": {
        "colab": {
          "base_uri": "https://localhost:8080/"
        },
        "id": "HhAuKiHeu5cJ",
        "outputId": "02982050-34d1-4df1-e664-dcba3e51416a"
      },
      "execution_count": 548,
      "outputs": [
        {
          "output_type": "stream",
          "name": "stdout",
          "text": [
            "Contador: 8\n",
            "\n",
            "\n",
            "Pesos: [-1, 1, 0]\n"
          ]
        }
      ]
    },
    {
      "cell_type": "code",
      "source": [
        "# Checar se os valores obtidos e esperados estão dando igual\n",
        "for i in range(len(df)):\n",
        "    sum = Sgn(bias*W[0] + df.loc[i, \"N1\"]*W[1] + df.loc[i, \"N2\"]*W[2])\n",
        "\n",
        "    print(\"Valor obtido:\",sum,\"| Valor esperado:\",df.loc[i, \"Saída\"])"
      ],
      "metadata": {
        "id": "q8d_O-mhDt34",
        "colab": {
          "base_uri": "https://localhost:8080/"
        },
        "outputId": "ab75c6a9-4ea0-496f-ca65-49a3a8365a2c"
      },
      "execution_count": 549,
      "outputs": [
        {
          "output_type": "stream",
          "name": "stdout",
          "text": [
            "Valor obtido: 1 | Valor esperado: 1\n",
            "Valor obtido: 1 | Valor esperado: 1\n",
            "Valor obtido: 0 | Valor esperado: 0\n",
            "Valor obtido: 0 | Valor esperado: 0\n"
          ]
        }
      ]
    },
    {
      "cell_type": "markdown",
      "source": [
        "#**Perguntas**"
      ],
      "metadata": {
        "id": "2Z9ZNN_P_GV9"
      }
    },
    {
      "cell_type": "markdown",
      "source": [
        "Questão 1: O programa de treinamento funciona sempre ou depende da seqüência de valores informados durante o treinamento? \\\\\n",
        "Resposta : Depende da sequência de valores informados. A cada sequência obtemos um valor diferente tanto da quantidade necessária para corrigir os pesos quanto dos valores dos pesos"
      ],
      "metadata": {
        "id": "hS4i3U3d_IUN"
      }
    },
    {
      "cell_type": "markdown",
      "source": [
        "Questão 2: Qual o número máximo de interações para corrigir os pesos? \\\\\n",
        "Resposta : Após rodar algumas vezes o código, o maior valor obtido no contador foi 16 \\\\\n",
        "Sequência : Beethoven, Bach, Kepler, Einstein \\\\\n",
        "Pesos : Wb = -1 , W1 = 2, W2 = -1"
      ],
      "metadata": {
        "id": "LCOF74aX_Os_"
      }
    }
  ]
}