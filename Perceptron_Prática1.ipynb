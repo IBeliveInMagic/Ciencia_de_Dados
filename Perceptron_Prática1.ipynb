{
  "nbformat": 4,
  "nbformat_minor": 0,
  "metadata": {
    "colab": {
      "name": "Perceptron-Prática1.ipynb",
      "provenance": [],
      "collapsed_sections": [],
      "authorship_tag": "ABX9TyPhBiWr/ZHblCXS3jiG23T4",
      "include_colab_link": true
    },
    "kernelspec": {
      "name": "python3",
      "display_name": "Python 3"
    },
    "language_info": {
      "name": "python"
    }
  },
  "cells": [
    {
      "cell_type": "markdown",
      "metadata": {
        "id": "view-in-github",
        "colab_type": "text"
      },
      "source": [
        "<a href=\"https://colab.research.google.com/github/IBeliveInMagic/Ciencia_de_Dados/blob/main/Perceptron_Pr%C3%A1tica1.ipynb\" target=\"_parent\"><img src=\"https://colab.research.google.com/assets/colab-badge.svg\" alt=\"Open In Colab\"/></a>"
      ]
    },
    {
      "cell_type": "code",
      "source": [
        "import numpy as np\n",
        "import pandas as pd"
      ],
      "metadata": {
        "id": "giNHefOu2F6x"
      },
      "execution_count": 57,
      "outputs": []
    },
    {
      "cell_type": "markdown",
      "source": [
        "#**Parte1**"
      ],
      "metadata": {
        "id": "xfLjeBaYT_ad"
      }
    },
    {
      "cell_type": "code",
      "execution_count": 58,
      "metadata": {
        "id": "E2BAXxOz1iI7"
      },
      "outputs": [],
      "source": [
        "Data = {\n",
        "    \n",
        "    'Nomes' : ['Kepler','Einstein','Bach','Beethoven'],\n",
        "    'N1' : [1,1,0,0],\n",
        "    'N2' : [1,0,0,1],\n",
        "    'Saída' : [1,1,0,0]\n",
        "}"
      ]
    },
    {
      "cell_type": "code",
      "source": [
        "df = pd.DataFrame(Data)"
      ],
      "metadata": {
        "id": "UFcJ7ssw3HWN"
      },
      "execution_count": 59,
      "outputs": []
    },
    {
      "cell_type": "code",
      "source": [
        "df"
      ],
      "metadata": {
        "id": "vou4jysD3U76",
        "colab": {
          "base_uri": "https://localhost:8080/"
        },
        "outputId": "ccf05a67-9b72-4cc5-bd9c-0abde8d7dd51"
      },
      "execution_count": 60,
      "outputs": [
        {
          "output_type": "execute_result",
          "data": {
            "text/plain": [
              "       Nomes  N1  N2  Saída\n",
              "0     Kepler   1   1      1\n",
              "1   Einstein   1   0      1\n",
              "2       Bach   0   0      0\n",
              "3  Beethoven   0   1      0"
            ],
            "text/html": [
              "\n",
              "  <div id=\"df-ddb4c1a8-6583-4adc-8b0c-757970b756b0\">\n",
              "    <div class=\"colab-df-container\">\n",
              "      <div>\n",
              "<style scoped>\n",
              "    .dataframe tbody tr th:only-of-type {\n",
              "        vertical-align: middle;\n",
              "    }\n",
              "\n",
              "    .dataframe tbody tr th {\n",
              "        vertical-align: top;\n",
              "    }\n",
              "\n",
              "    .dataframe thead th {\n",
              "        text-align: right;\n",
              "    }\n",
              "</style>\n",
              "<table border=\"1\" class=\"dataframe\">\n",
              "  <thead>\n",
              "    <tr style=\"text-align: right;\">\n",
              "      <th></th>\n",
              "      <th>Nomes</th>\n",
              "      <th>N1</th>\n",
              "      <th>N2</th>\n",
              "      <th>Saída</th>\n",
              "    </tr>\n",
              "  </thead>\n",
              "  <tbody>\n",
              "    <tr>\n",
              "      <th>0</th>\n",
              "      <td>Kepler</td>\n",
              "      <td>1</td>\n",
              "      <td>1</td>\n",
              "      <td>1</td>\n",
              "    </tr>\n",
              "    <tr>\n",
              "      <th>1</th>\n",
              "      <td>Einstein</td>\n",
              "      <td>1</td>\n",
              "      <td>0</td>\n",
              "      <td>1</td>\n",
              "    </tr>\n",
              "    <tr>\n",
              "      <th>2</th>\n",
              "      <td>Bach</td>\n",
              "      <td>0</td>\n",
              "      <td>0</td>\n",
              "      <td>0</td>\n",
              "    </tr>\n",
              "    <tr>\n",
              "      <th>3</th>\n",
              "      <td>Beethoven</td>\n",
              "      <td>0</td>\n",
              "      <td>1</td>\n",
              "      <td>0</td>\n",
              "    </tr>\n",
              "  </tbody>\n",
              "</table>\n",
              "</div>\n",
              "      <button class=\"colab-df-convert\" onclick=\"convertToInteractive('df-ddb4c1a8-6583-4adc-8b0c-757970b756b0')\"\n",
              "              title=\"Convert this dataframe to an interactive table.\"\n",
              "              style=\"display:none;\">\n",
              "        \n",
              "  <svg xmlns=\"http://www.w3.org/2000/svg\" height=\"24px\"viewBox=\"0 0 24 24\"\n",
              "       width=\"24px\">\n",
              "    <path d=\"M0 0h24v24H0V0z\" fill=\"none\"/>\n",
              "    <path d=\"M18.56 5.44l.94 2.06.94-2.06 2.06-.94-2.06-.94-.94-2.06-.94 2.06-2.06.94zm-11 1L8.5 8.5l.94-2.06 2.06-.94-2.06-.94L8.5 2.5l-.94 2.06-2.06.94zm10 10l.94 2.06.94-2.06 2.06-.94-2.06-.94-.94-2.06-.94 2.06-2.06.94z\"/><path d=\"M17.41 7.96l-1.37-1.37c-.4-.4-.92-.59-1.43-.59-.52 0-1.04.2-1.43.59L10.3 9.45l-7.72 7.72c-.78.78-.78 2.05 0 2.83L4 21.41c.39.39.9.59 1.41.59.51 0 1.02-.2 1.41-.59l7.78-7.78 2.81-2.81c.8-.78.8-2.07 0-2.86zM5.41 20L4 18.59l7.72-7.72 1.47 1.35L5.41 20z\"/>\n",
              "  </svg>\n",
              "      </button>\n",
              "      \n",
              "  <style>\n",
              "    .colab-df-container {\n",
              "      display:flex;\n",
              "      flex-wrap:wrap;\n",
              "      gap: 12px;\n",
              "    }\n",
              "\n",
              "    .colab-df-convert {\n",
              "      background-color: #E8F0FE;\n",
              "      border: none;\n",
              "      border-radius: 50%;\n",
              "      cursor: pointer;\n",
              "      display: none;\n",
              "      fill: #1967D2;\n",
              "      height: 32px;\n",
              "      padding: 0 0 0 0;\n",
              "      width: 32px;\n",
              "    }\n",
              "\n",
              "    .colab-df-convert:hover {\n",
              "      background-color: #E2EBFA;\n",
              "      box-shadow: 0px 1px 2px rgba(60, 64, 67, 0.3), 0px 1px 3px 1px rgba(60, 64, 67, 0.15);\n",
              "      fill: #174EA6;\n",
              "    }\n",
              "\n",
              "    [theme=dark] .colab-df-convert {\n",
              "      background-color: #3B4455;\n",
              "      fill: #D2E3FC;\n",
              "    }\n",
              "\n",
              "    [theme=dark] .colab-df-convert:hover {\n",
              "      background-color: #434B5C;\n",
              "      box-shadow: 0px 1px 3px 1px rgba(0, 0, 0, 0.15);\n",
              "      filter: drop-shadow(0px 1px 2px rgba(0, 0, 0, 0.3));\n",
              "      fill: #FFFFFF;\n",
              "    }\n",
              "  </style>\n",
              "\n",
              "      <script>\n",
              "        const buttonEl =\n",
              "          document.querySelector('#df-ddb4c1a8-6583-4adc-8b0c-757970b756b0 button.colab-df-convert');\n",
              "        buttonEl.style.display =\n",
              "          google.colab.kernel.accessAllowed ? 'block' : 'none';\n",
              "\n",
              "        async function convertToInteractive(key) {\n",
              "          const element = document.querySelector('#df-ddb4c1a8-6583-4adc-8b0c-757970b756b0');\n",
              "          const dataTable =\n",
              "            await google.colab.kernel.invokeFunction('convertToInteractive',\n",
              "                                                     [key], {});\n",
              "          if (!dataTable) return;\n",
              "\n",
              "          const docLinkHtml = 'Like what you see? Visit the ' +\n",
              "            '<a target=\"_blank\" href=https://colab.research.google.com/notebooks/data_table.ipynb>data table notebook</a>'\n",
              "            + ' to learn more about interactive tables.';\n",
              "          element.innerHTML = '';\n",
              "          dataTable['output_type'] = 'display_data';\n",
              "          await google.colab.output.renderOutput(dataTable, element);\n",
              "          const docLink = document.createElement('div');\n",
              "          docLink.innerHTML = docLinkHtml;\n",
              "          element.appendChild(docLink);\n",
              "        }\n",
              "      </script>\n",
              "    </div>\n",
              "  </div>\n",
              "  "
            ]
          },
          "metadata": {},
          "execution_count": 60
        }
      ]
    },
    {
      "cell_type": "code",
      "source": [
        "bias = 1"
      ],
      "metadata": {
        "id": "DFHrUv-13zMZ"
      },
      "execution_count": 61,
      "outputs": []
    },
    {
      "cell_type": "code",
      "source": [
        "W = [0,0,0]\n",
        "Wnovo = [0,0,0]\n",
        "cont = 0"
      ],
      "metadata": {
        "id": "_0gEEhMc3nJ6"
      },
      "execution_count": 62,
      "outputs": []
    },
    {
      "cell_type": "code",
      "source": [
        "def Sgn(X):\n",
        "  if X < 0:\n",
        "    Y = 0\n",
        "  else:\n",
        "    Y = 1\n",
        "  return Y "
      ],
      "metadata": {
        "id": "hkcWZSnnAxho"
      },
      "execution_count": 63,
      "outputs": []
    },
    {
      "cell_type": "code",
      "source": [
        "Continue = True\n",
        "while Continue:\n",
        "  Continue = False\n",
        "  for i in range(len(df)):\n",
        "      sum = Sgn(bias*W[0] + df.loc[i, \"N1\"]*W[1] + df.loc[i, \"N2\"]*W[2])\n",
        "\n",
        "      cont = cont + 1\n",
        "\n",
        "      if sum != df.loc[i, \"Saída\"]:\n",
        "        Erro = df.loc[i, \"Saída\"] - sum\n",
        "        Wnovo[0] = W[0] + (Erro*1*bias)\n",
        "        Wnovo[1] = W[1] + (Erro*1*df.loc[i, \"N1\"])\n",
        "        Wnovo[2] = W[2] + (Erro*1*df.loc[i, \"N2\"])\n",
        "\n",
        "        W = Wnovo\n",
        "        Continue = True\n"
      ],
      "metadata": {
        "id": "Rh2W85m23txS"
      },
      "execution_count": 64,
      "outputs": []
    },
    {
      "cell_type": "code",
      "source": [
        "print(\"Contador:\", cont)\n",
        "print(\"\\n\")\n",
        "print(df['Nomes'])\n",
        "print(\"\\n\")\n",
        "print(W)"
      ],
      "metadata": {
        "colab": {
          "base_uri": "https://localhost:8080/"
        },
        "id": "HhAuKiHeu5cJ",
        "outputId": "8f5d37fb-ed91-427d-9f41-6a034457220c"
      },
      "execution_count": 65,
      "outputs": [
        {
          "output_type": "stream",
          "name": "stdout",
          "text": [
            "Contador: 16\n",
            "\n",
            "\n",
            "0       Kepler\n",
            "1     Einstein\n",
            "2         Bach\n",
            "3    Beethoven\n",
            "Name: Nomes, dtype: object\n",
            "\n",
            "\n",
            "[-2, 2, 0]\n"
          ]
        }
      ]
    },
    {
      "cell_type": "code",
      "source": [
        "for i in range(len(df)):\n",
        "    sum = Sgn(bias*W[0] + df.loc[i, \"N1\"]*W[1] + df.loc[i, \"N2\"]*W[2])\n",
        "\n",
        "    print(\"Valor obtido:\",sum,\"| Valor esperado:\",df.loc[i, \"Saída\"])"
      ],
      "metadata": {
        "id": "q8d_O-mhDt34",
        "colab": {
          "base_uri": "https://localhost:8080/"
        },
        "outputId": "9f15c790-10ce-420b-815e-b78b67ec5ff2"
      },
      "execution_count": 66,
      "outputs": [
        {
          "output_type": "stream",
          "name": "stdout",
          "text": [
            "Valor obtido: 1 | Valor esperado: 1\n",
            "Valor obtido: 1 | Valor esperado: 1\n",
            "Valor obtido: 0 | Valor esperado: 0\n",
            "Valor obtido: 0 | Valor esperado: 0\n"
          ]
        }
      ]
    },
    {
      "cell_type": "code",
      "source": [],
      "metadata": {
        "id": "VTfkGHCsyyv0"
      },
      "execution_count": 66,
      "outputs": []
    },
    {
      "cell_type": "markdown",
      "source": [
        "#**Parte2**"
      ],
      "metadata": {
        "id": "TL7v1rwxyzG2"
      }
    },
    {
      "cell_type": "code",
      "execution_count": 67,
      "metadata": {
        "id": "5kREVEzByzG4"
      },
      "outputs": [],
      "source": [
        "Data = {\n",
        "    \n",
        "    'Nomes' : ['Beethoven','Einstein','Kepler','Bach'],\n",
        "    'N1' : [0,1,1,0],\n",
        "    'N2' : [1,0,1,0],\n",
        "    'Saída' : [0,1,1,0]\n",
        "}"
      ]
    },
    {
      "cell_type": "code",
      "source": [
        "df = pd.DataFrame(Data)"
      ],
      "metadata": {
        "id": "PkulGAA4yzG5"
      },
      "execution_count": 68,
      "outputs": []
    },
    {
      "cell_type": "code",
      "source": [
        "df"
      ],
      "metadata": {
        "colab": {
          "base_uri": "https://localhost:8080/"
        },
        "outputId": "30b2f260-dc7c-4693-9611-3469ba27066c",
        "id": "Zno1M0YYyzG6"
      },
      "execution_count": 69,
      "outputs": [
        {
          "output_type": "execute_result",
          "data": {
            "text/plain": [
              "       Nomes  N1  N2  Saída\n",
              "0  Beethoven   0   1      0\n",
              "1   Einstein   1   0      1\n",
              "2     Kepler   1   1      1\n",
              "3       Bach   0   0      0"
            ],
            "text/html": [
              "\n",
              "  <div id=\"df-5b820020-a2a5-43cc-b2fb-d02d55bc1794\">\n",
              "    <div class=\"colab-df-container\">\n",
              "      <div>\n",
              "<style scoped>\n",
              "    .dataframe tbody tr th:only-of-type {\n",
              "        vertical-align: middle;\n",
              "    }\n",
              "\n",
              "    .dataframe tbody tr th {\n",
              "        vertical-align: top;\n",
              "    }\n",
              "\n",
              "    .dataframe thead th {\n",
              "        text-align: right;\n",
              "    }\n",
              "</style>\n",
              "<table border=\"1\" class=\"dataframe\">\n",
              "  <thead>\n",
              "    <tr style=\"text-align: right;\">\n",
              "      <th></th>\n",
              "      <th>Nomes</th>\n",
              "      <th>N1</th>\n",
              "      <th>N2</th>\n",
              "      <th>Saída</th>\n",
              "    </tr>\n",
              "  </thead>\n",
              "  <tbody>\n",
              "    <tr>\n",
              "      <th>0</th>\n",
              "      <td>Beethoven</td>\n",
              "      <td>0</td>\n",
              "      <td>1</td>\n",
              "      <td>0</td>\n",
              "    </tr>\n",
              "    <tr>\n",
              "      <th>1</th>\n",
              "      <td>Einstein</td>\n",
              "      <td>1</td>\n",
              "      <td>0</td>\n",
              "      <td>1</td>\n",
              "    </tr>\n",
              "    <tr>\n",
              "      <th>2</th>\n",
              "      <td>Kepler</td>\n",
              "      <td>1</td>\n",
              "      <td>1</td>\n",
              "      <td>1</td>\n",
              "    </tr>\n",
              "    <tr>\n",
              "      <th>3</th>\n",
              "      <td>Bach</td>\n",
              "      <td>0</td>\n",
              "      <td>0</td>\n",
              "      <td>0</td>\n",
              "    </tr>\n",
              "  </tbody>\n",
              "</table>\n",
              "</div>\n",
              "      <button class=\"colab-df-convert\" onclick=\"convertToInteractive('df-5b820020-a2a5-43cc-b2fb-d02d55bc1794')\"\n",
              "              title=\"Convert this dataframe to an interactive table.\"\n",
              "              style=\"display:none;\">\n",
              "        \n",
              "  <svg xmlns=\"http://www.w3.org/2000/svg\" height=\"24px\"viewBox=\"0 0 24 24\"\n",
              "       width=\"24px\">\n",
              "    <path d=\"M0 0h24v24H0V0z\" fill=\"none\"/>\n",
              "    <path d=\"M18.56 5.44l.94 2.06.94-2.06 2.06-.94-2.06-.94-.94-2.06-.94 2.06-2.06.94zm-11 1L8.5 8.5l.94-2.06 2.06-.94-2.06-.94L8.5 2.5l-.94 2.06-2.06.94zm10 10l.94 2.06.94-2.06 2.06-.94-2.06-.94-.94-2.06-.94 2.06-2.06.94z\"/><path d=\"M17.41 7.96l-1.37-1.37c-.4-.4-.92-.59-1.43-.59-.52 0-1.04.2-1.43.59L10.3 9.45l-7.72 7.72c-.78.78-.78 2.05 0 2.83L4 21.41c.39.39.9.59 1.41.59.51 0 1.02-.2 1.41-.59l7.78-7.78 2.81-2.81c.8-.78.8-2.07 0-2.86zM5.41 20L4 18.59l7.72-7.72 1.47 1.35L5.41 20z\"/>\n",
              "  </svg>\n",
              "      </button>\n",
              "      \n",
              "  <style>\n",
              "    .colab-df-container {\n",
              "      display:flex;\n",
              "      flex-wrap:wrap;\n",
              "      gap: 12px;\n",
              "    }\n",
              "\n",
              "    .colab-df-convert {\n",
              "      background-color: #E8F0FE;\n",
              "      border: none;\n",
              "      border-radius: 50%;\n",
              "      cursor: pointer;\n",
              "      display: none;\n",
              "      fill: #1967D2;\n",
              "      height: 32px;\n",
              "      padding: 0 0 0 0;\n",
              "      width: 32px;\n",
              "    }\n",
              "\n",
              "    .colab-df-convert:hover {\n",
              "      background-color: #E2EBFA;\n",
              "      box-shadow: 0px 1px 2px rgba(60, 64, 67, 0.3), 0px 1px 3px 1px rgba(60, 64, 67, 0.15);\n",
              "      fill: #174EA6;\n",
              "    }\n",
              "\n",
              "    [theme=dark] .colab-df-convert {\n",
              "      background-color: #3B4455;\n",
              "      fill: #D2E3FC;\n",
              "    }\n",
              "\n",
              "    [theme=dark] .colab-df-convert:hover {\n",
              "      background-color: #434B5C;\n",
              "      box-shadow: 0px 1px 3px 1px rgba(0, 0, 0, 0.15);\n",
              "      filter: drop-shadow(0px 1px 2px rgba(0, 0, 0, 0.3));\n",
              "      fill: #FFFFFF;\n",
              "    }\n",
              "  </style>\n",
              "\n",
              "      <script>\n",
              "        const buttonEl =\n",
              "          document.querySelector('#df-5b820020-a2a5-43cc-b2fb-d02d55bc1794 button.colab-df-convert');\n",
              "        buttonEl.style.display =\n",
              "          google.colab.kernel.accessAllowed ? 'block' : 'none';\n",
              "\n",
              "        async function convertToInteractive(key) {\n",
              "          const element = document.querySelector('#df-5b820020-a2a5-43cc-b2fb-d02d55bc1794');\n",
              "          const dataTable =\n",
              "            await google.colab.kernel.invokeFunction('convertToInteractive',\n",
              "                                                     [key], {});\n",
              "          if (!dataTable) return;\n",
              "\n",
              "          const docLinkHtml = 'Like what you see? Visit the ' +\n",
              "            '<a target=\"_blank\" href=https://colab.research.google.com/notebooks/data_table.ipynb>data table notebook</a>'\n",
              "            + ' to learn more about interactive tables.';\n",
              "          element.innerHTML = '';\n",
              "          dataTable['output_type'] = 'display_data';\n",
              "          await google.colab.output.renderOutput(dataTable, element);\n",
              "          const docLink = document.createElement('div');\n",
              "          docLink.innerHTML = docLinkHtml;\n",
              "          element.appendChild(docLink);\n",
              "        }\n",
              "      </script>\n",
              "    </div>\n",
              "  </div>\n",
              "  "
            ]
          },
          "metadata": {},
          "execution_count": 69
        }
      ]
    },
    {
      "cell_type": "code",
      "source": [
        "bias = 1"
      ],
      "metadata": {
        "id": "J6Xd2g9nyzG7"
      },
      "execution_count": 70,
      "outputs": []
    },
    {
      "cell_type": "code",
      "source": [
        "W = [0,0,0]\n",
        "Wnovo = [0,0,0]\n",
        "cont = 0"
      ],
      "metadata": {
        "id": "lHGDY0P8yzG8"
      },
      "execution_count": 71,
      "outputs": []
    },
    {
      "cell_type": "code",
      "source": [
        "def Sgn(X):\n",
        "  if X < 0:\n",
        "    Y = 0\n",
        "  else:\n",
        "    Y = 1\n",
        "  return Y "
      ],
      "metadata": {
        "id": "eNtmz72wyzG9"
      },
      "execution_count": 72,
      "outputs": []
    },
    {
      "cell_type": "code",
      "source": [
        "Continue = True\n",
        "while Continue:\n",
        "  Continue = False\n",
        "  for i in range(len(df)):\n",
        "      sum = Sgn(bias*W[0] + df.loc[i, \"N1\"]*W[1] + df.loc[i, \"N2\"]*W[2])\n",
        "\n",
        "      cont = cont + 1\n",
        "\n",
        "      if sum != df.loc[i, \"Saída\"]:\n",
        "        Erro = df.loc[i, \"Saída\"] - sum\n",
        "        Wnovo[0] = W[0] + (Erro*1*bias)\n",
        "        Wnovo[1] = W[1] + (Erro*1*df.loc[i, \"N1\"])\n",
        "        Wnovo[2] = W[2] + (Erro*1*df.loc[i, \"N2\"])\n",
        "\n",
        "        W = Wnovo\n",
        "        Continue = True\n"
      ],
      "metadata": {
        "id": "2LVIpo2myzG-"
      },
      "execution_count": 73,
      "outputs": []
    },
    {
      "cell_type": "code",
      "source": [
        "print(\"Contador:\", cont)\n",
        "print(\"\\n\")\n",
        "print(df['Nomes'])\n",
        "print(\"\\n\")\n",
        "print(W)"
      ],
      "metadata": {
        "colab": {
          "base_uri": "https://localhost:8080/"
        },
        "outputId": "e46b205d-f2bc-4873-8fee-7500ed436267",
        "id": "qBCjW8NbyzG_"
      },
      "execution_count": 74,
      "outputs": [
        {
          "output_type": "stream",
          "name": "stdout",
          "text": [
            "Contador: 12\n",
            "\n",
            "\n",
            "0    Beethoven\n",
            "1     Einstein\n",
            "2       Kepler\n",
            "3         Bach\n",
            "Name: Nomes, dtype: object\n",
            "\n",
            "\n",
            "[-1, 2, 0]\n"
          ]
        }
      ]
    },
    {
      "cell_type": "code",
      "source": [
        "for i in range(len(df)):\n",
        "    sum = Sgn(bias*W[0] + df.loc[i, \"N1\"]*W[1] + df.loc[i, \"N2\"]*W[2])\n",
        "\n",
        "    print(\"Valor obtido:\",sum,\"| Valor esperado:\",df.loc[i, \"Saída\"])"
      ],
      "metadata": {
        "colab": {
          "base_uri": "https://localhost:8080/"
        },
        "outputId": "083fb318-0453-44d3-c93b-098b151bfc76",
        "id": "XC7YWgwVyzHA"
      },
      "execution_count": 75,
      "outputs": [
        {
          "output_type": "stream",
          "name": "stdout",
          "text": [
            "Valor obtido: 0 | Valor esperado: 0\n",
            "Valor obtido: 1 | Valor esperado: 1\n",
            "Valor obtido: 1 | Valor esperado: 1\n",
            "Valor obtido: 0 | Valor esperado: 0\n"
          ]
        }
      ]
    }
  ]
}