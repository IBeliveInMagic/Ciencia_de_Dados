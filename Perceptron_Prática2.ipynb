{
  "nbformat": 4,
  "nbformat_minor": 0,
  "metadata": {
    "colab": {
      "name": "Cópia de Perceptron-Prática2.ipynb",
      "provenance": [],
      "collapsed_sections": [],
      "authorship_tag": "ABX9TyPMccP25V4LBVG98y69MS0X",
      "include_colab_link": true
    },
    "kernelspec": {
      "name": "python3",
      "display_name": "Python 3"
    },
    "language_info": {
      "name": "python"
    }
  },
  "cells": [
    {
      "cell_type": "markdown",
      "metadata": {
        "id": "view-in-github",
        "colab_type": "text"
      },
      "source": [
        "<a href=\"https://colab.research.google.com/github/IBeliveInMagic/Ciencia_de_Dados/blob/main/Perceptron_Pr%C3%A1tica2.ipynb\" target=\"_parent\"><img src=\"https://colab.research.google.com/assets/colab-badge.svg\" alt=\"Open In Colab\"/></a>"
      ]
    },
    {
      "cell_type": "markdown",
      "source": [
        "# **Importar bibliotecas**"
      ],
      "metadata": {
        "id": "9nLH3SMz45gg"
      }
    },
    {
      "cell_type": "code",
      "source": [
        "import numpy as np\n",
        "import pandas as pd\n",
        "import random "
      ],
      "metadata": {
        "id": "giNHefOu2F6x"
      },
      "execution_count": 28,
      "outputs": []
    },
    {
      "cell_type": "markdown",
      "source": [
        "#**Treinamento 2**\n"
      ],
      "metadata": {
        "id": "xfLjeBaYT_ad"
      }
    },
    {
      "cell_type": "code",
      "execution_count": 29,
      "metadata": {
        "id": "E2BAXxOz1iI7"
      },
      "outputs": [],
      "source": [
        "#Dataframe com os Nomes , Variáveis e Saídas para diferenciarmos Gripe de Resfriado\n",
        "# Gripe = 0 ; Resfriado = 1 \n",
        "Data = {\n",
        "    \n",
        "    'Nomes' : ['Gripe','Resfriado','Gripe','Resfriado','Gripe','Resfriado'],\n",
        "    'Vírus' : [1,0,1,0,0,0],\n",
        "    'Bactéria' : [0,1,0,1,0,0],\n",
        "    'Dor_Cabeça' : [1,0,1,1,1,0],\n",
        "    'Corisa' : [1,1,0,1,1,1],\n",
        "    'Saída' : [0,1,0,1,0,1]\n",
        "}"
      ]
    },
    {
      "cell_type": "code",
      "source": [
        "df = pd.DataFrame(Data)"
      ],
      "metadata": {
        "id": "UFcJ7ssw3HWN"
      },
      "execution_count": 30,
      "outputs": []
    },
    {
      "cell_type": "code",
      "source": [
        "df"
      ],
      "metadata": {
        "id": "vou4jysD3U76",
        "colab": {
          "base_uri": "https://localhost:8080/",
          "height": 238
        },
        "outputId": "bf640d66-8326-464e-b14b-33f6a9ac3477"
      },
      "execution_count": 31,
      "outputs": [
        {
          "output_type": "execute_result",
          "data": {
            "text/plain": [
              "       Nomes  Vírus  Bactéria  Dor_Cabeça  Corisa  Saída\n",
              "0      Gripe      1         0           1       1      0\n",
              "1  Resfriado      0         1           0       1      1\n",
              "2      Gripe      1         0           1       0      0\n",
              "3  Resfriado      0         1           1       1      1\n",
              "4      Gripe      0         0           1       1      0\n",
              "5  Resfriado      0         0           0       1      1"
            ],
            "text/html": [
              "\n",
              "  <div id=\"df-d2702eb8-4af7-4c67-b2f6-8b3eea597774\">\n",
              "    <div class=\"colab-df-container\">\n",
              "      <div>\n",
              "<style scoped>\n",
              "    .dataframe tbody tr th:only-of-type {\n",
              "        vertical-align: middle;\n",
              "    }\n",
              "\n",
              "    .dataframe tbody tr th {\n",
              "        vertical-align: top;\n",
              "    }\n",
              "\n",
              "    .dataframe thead th {\n",
              "        text-align: right;\n",
              "    }\n",
              "</style>\n",
              "<table border=\"1\" class=\"dataframe\">\n",
              "  <thead>\n",
              "    <tr style=\"text-align: right;\">\n",
              "      <th></th>\n",
              "      <th>Nomes</th>\n",
              "      <th>Vírus</th>\n",
              "      <th>Bactéria</th>\n",
              "      <th>Dor_Cabeça</th>\n",
              "      <th>Corisa</th>\n",
              "      <th>Saída</th>\n",
              "    </tr>\n",
              "  </thead>\n",
              "  <tbody>\n",
              "    <tr>\n",
              "      <th>0</th>\n",
              "      <td>Gripe</td>\n",
              "      <td>1</td>\n",
              "      <td>0</td>\n",
              "      <td>1</td>\n",
              "      <td>1</td>\n",
              "      <td>0</td>\n",
              "    </tr>\n",
              "    <tr>\n",
              "      <th>1</th>\n",
              "      <td>Resfriado</td>\n",
              "      <td>0</td>\n",
              "      <td>1</td>\n",
              "      <td>0</td>\n",
              "      <td>1</td>\n",
              "      <td>1</td>\n",
              "    </tr>\n",
              "    <tr>\n",
              "      <th>2</th>\n",
              "      <td>Gripe</td>\n",
              "      <td>1</td>\n",
              "      <td>0</td>\n",
              "      <td>1</td>\n",
              "      <td>0</td>\n",
              "      <td>0</td>\n",
              "    </tr>\n",
              "    <tr>\n",
              "      <th>3</th>\n",
              "      <td>Resfriado</td>\n",
              "      <td>0</td>\n",
              "      <td>1</td>\n",
              "      <td>1</td>\n",
              "      <td>1</td>\n",
              "      <td>1</td>\n",
              "    </tr>\n",
              "    <tr>\n",
              "      <th>4</th>\n",
              "      <td>Gripe</td>\n",
              "      <td>0</td>\n",
              "      <td>0</td>\n",
              "      <td>1</td>\n",
              "      <td>1</td>\n",
              "      <td>0</td>\n",
              "    </tr>\n",
              "    <tr>\n",
              "      <th>5</th>\n",
              "      <td>Resfriado</td>\n",
              "      <td>0</td>\n",
              "      <td>0</td>\n",
              "      <td>0</td>\n",
              "      <td>1</td>\n",
              "      <td>1</td>\n",
              "    </tr>\n",
              "  </tbody>\n",
              "</table>\n",
              "</div>\n",
              "      <button class=\"colab-df-convert\" onclick=\"convertToInteractive('df-d2702eb8-4af7-4c67-b2f6-8b3eea597774')\"\n",
              "              title=\"Convert this dataframe to an interactive table.\"\n",
              "              style=\"display:none;\">\n",
              "        \n",
              "  <svg xmlns=\"http://www.w3.org/2000/svg\" height=\"24px\"viewBox=\"0 0 24 24\"\n",
              "       width=\"24px\">\n",
              "    <path d=\"M0 0h24v24H0V0z\" fill=\"none\"/>\n",
              "    <path d=\"M18.56 5.44l.94 2.06.94-2.06 2.06-.94-2.06-.94-.94-2.06-.94 2.06-2.06.94zm-11 1L8.5 8.5l.94-2.06 2.06-.94-2.06-.94L8.5 2.5l-.94 2.06-2.06.94zm10 10l.94 2.06.94-2.06 2.06-.94-2.06-.94-.94-2.06-.94 2.06-2.06.94z\"/><path d=\"M17.41 7.96l-1.37-1.37c-.4-.4-.92-.59-1.43-.59-.52 0-1.04.2-1.43.59L10.3 9.45l-7.72 7.72c-.78.78-.78 2.05 0 2.83L4 21.41c.39.39.9.59 1.41.59.51 0 1.02-.2 1.41-.59l7.78-7.78 2.81-2.81c.8-.78.8-2.07 0-2.86zM5.41 20L4 18.59l7.72-7.72 1.47 1.35L5.41 20z\"/>\n",
              "  </svg>\n",
              "      </button>\n",
              "      \n",
              "  <style>\n",
              "    .colab-df-container {\n",
              "      display:flex;\n",
              "      flex-wrap:wrap;\n",
              "      gap: 12px;\n",
              "    }\n",
              "\n",
              "    .colab-df-convert {\n",
              "      background-color: #E8F0FE;\n",
              "      border: none;\n",
              "      border-radius: 50%;\n",
              "      cursor: pointer;\n",
              "      display: none;\n",
              "      fill: #1967D2;\n",
              "      height: 32px;\n",
              "      padding: 0 0 0 0;\n",
              "      width: 32px;\n",
              "    }\n",
              "\n",
              "    .colab-df-convert:hover {\n",
              "      background-color: #E2EBFA;\n",
              "      box-shadow: 0px 1px 2px rgba(60, 64, 67, 0.3), 0px 1px 3px 1px rgba(60, 64, 67, 0.15);\n",
              "      fill: #174EA6;\n",
              "    }\n",
              "\n",
              "    [theme=dark] .colab-df-convert {\n",
              "      background-color: #3B4455;\n",
              "      fill: #D2E3FC;\n",
              "    }\n",
              "\n",
              "    [theme=dark] .colab-df-convert:hover {\n",
              "      background-color: #434B5C;\n",
              "      box-shadow: 0px 1px 3px 1px rgba(0, 0, 0, 0.15);\n",
              "      filter: drop-shadow(0px 1px 2px rgba(0, 0, 0, 0.3));\n",
              "      fill: #FFFFFF;\n",
              "    }\n",
              "  </style>\n",
              "\n",
              "      <script>\n",
              "        const buttonEl =\n",
              "          document.querySelector('#df-d2702eb8-4af7-4c67-b2f6-8b3eea597774 button.colab-df-convert');\n",
              "        buttonEl.style.display =\n",
              "          google.colab.kernel.accessAllowed ? 'block' : 'none';\n",
              "\n",
              "        async function convertToInteractive(key) {\n",
              "          const element = document.querySelector('#df-d2702eb8-4af7-4c67-b2f6-8b3eea597774');\n",
              "          const dataTable =\n",
              "            await google.colab.kernel.invokeFunction('convertToInteractive',\n",
              "                                                     [key], {});\n",
              "          if (!dataTable) return;\n",
              "\n",
              "          const docLinkHtml = 'Like what you see? Visit the ' +\n",
              "            '<a target=\"_blank\" href=https://colab.research.google.com/notebooks/data_table.ipynb>data table notebook</a>'\n",
              "            + ' to learn more about interactive tables.';\n",
              "          element.innerHTML = '';\n",
              "          dataTable['output_type'] = 'display_data';\n",
              "          await google.colab.output.renderOutput(dataTable, element);\n",
              "          const docLink = document.createElement('div');\n",
              "          docLink.innerHTML = docLinkHtml;\n",
              "          element.appendChild(docLink);\n",
              "        }\n",
              "      </script>\n",
              "    </div>\n",
              "  </div>\n",
              "  "
            ]
          },
          "metadata": {},
          "execution_count": 31
        }
      ]
    },
    {
      "cell_type": "code",
      "source": [
        "bias = 1"
      ],
      "metadata": {
        "id": "DFHrUv-13zMZ"
      },
      "execution_count": 32,
      "outputs": []
    },
    {
      "cell_type": "code",
      "source": [
        "# W e Wnovo armazenam os pesos\n",
        "W = [0,0,0,0,0]\n",
        "Wnovo = [0,0,0,0,0]"
      ],
      "metadata": {
        "id": "_0gEEhMc3nJ6"
      },
      "execution_count": 33,
      "outputs": []
    },
    {
      "cell_type": "code",
      "source": [
        "# Contador que mostrará quantas vezes foram necessárias para o algoritmo acertar os pesos\n",
        "cont = 0"
      ],
      "metadata": {
        "id": "ueU4XhAX-dBG"
      },
      "execution_count": 34,
      "outputs": []
    },
    {
      "cell_type": "code",
      "source": [
        "# Lista criada para alterar a sequência das linhas do dataFrame \n",
        "list = [0,1,2,3,4,5]\n",
        "#random.shuffle(list)\n",
        "print(list)"
      ],
      "metadata": {
        "colab": {
          "base_uri": "https://localhost:8080/"
        },
        "id": "YJ-9BE8P9WgF",
        "outputId": "b49fea67-35b9-45d8-86ab-b5b6aca4842a"
      },
      "execution_count": 35,
      "outputs": [
        {
          "output_type": "stream",
          "name": "stdout",
          "text": [
            "[0, 1, 2, 3, 4, 5]\n"
          ]
        }
      ]
    },
    {
      "cell_type": "code",
      "source": [
        "# Função escada \n",
        "def Sgn(X):\n",
        "  if X < 0:\n",
        "    Y = 0\n",
        "  else:\n",
        "    Y = 1\n",
        "  return Y "
      ],
      "metadata": {
        "id": "hkcWZSnnAxho"
      },
      "execution_count": 36,
      "outputs": []
    },
    {
      "cell_type": "code",
      "source": [
        "# Algoritmo de treinamento \n",
        "Continue = True\n",
        "while Continue:\n",
        "  Continue = False\n",
        "\n",
        "  for i in list:\n",
        "      sum = Sgn(bias*W[0] + df.loc[i, \"Vírus\"]*W[1] + df.loc[i, \"Bactéria\"]*W[2] + df.loc[i, \"Dor_Cabeça\"]*W[3] + df.loc[i,\"Corisa\"]*W[4])\n",
        "\n",
        "      cont = cont + 1\n",
        "      print(\"Valor obtido:\",sum,\"| Valor esperado:\",df.loc[i, \"Saída\"], \"| Nome:\", df.loc[i,\"Nomes\"])\n",
        "\n",
        "      if sum != df.loc[i, \"Saída\"]:\n",
        "        Erro = df.loc[i, \"Saída\"] - sum\n",
        "        Wnovo[0] = W[0] + (Erro*1*bias)\n",
        "        Wnovo[1] = W[1] + (Erro*1*df.loc[i, \"Vírus\"])\n",
        "        Wnovo[2] = W[2] + (Erro*1*df.loc[i, \"Bactéria\"])\n",
        "        Wnovo[3] = W[3] + (Erro*1*df.loc[i, \"Dor_Cabeça\"])\n",
        "        Wnovo[4] = W[4] + (Erro*1*df.loc[i, \"Corisa\"])\n",
        "\n",
        "        W = Wnovo\n",
        "        Continue = True\n"
      ],
      "metadata": {
        "id": "Rh2W85m23txS",
        "colab": {
          "base_uri": "https://localhost:8080/"
        },
        "outputId": "23bd2da9-7e07-4daf-b963-6d8c5d313669"
      },
      "execution_count": 37,
      "outputs": [
        {
          "output_type": "stream",
          "name": "stdout",
          "text": [
            "Valor obtido: 1 | Valor esperado: 0 | Nome: Gripe\n",
            "Valor obtido: 0 | Valor esperado: 1 | Nome: Resfriado\n",
            "Valor obtido: 0 | Valor esperado: 0 | Nome: Gripe\n",
            "Valor obtido: 1 | Valor esperado: 1 | Nome: Resfriado\n",
            "Valor obtido: 0 | Valor esperado: 0 | Nome: Gripe\n",
            "Valor obtido: 1 | Valor esperado: 1 | Nome: Resfriado\n",
            "Valor obtido: 0 | Valor esperado: 0 | Nome: Gripe\n",
            "Valor obtido: 1 | Valor esperado: 1 | Nome: Resfriado\n",
            "Valor obtido: 0 | Valor esperado: 0 | Nome: Gripe\n",
            "Valor obtido: 1 | Valor esperado: 1 | Nome: Resfriado\n",
            "Valor obtido: 0 | Valor esperado: 0 | Nome: Gripe\n",
            "Valor obtido: 1 | Valor esperado: 1 | Nome: Resfriado\n"
          ]
        }
      ]
    },
    {
      "cell_type": "code",
      "source": [
        "# Imprimindo as variáveis obtidas no treinamento\n",
        "print(\"Contador:\", cont)\n",
        "print(\"\\n\")\n",
        "print(\"Pesos:\", W)"
      ],
      "metadata": {
        "colab": {
          "base_uri": "https://localhost:8080/"
        },
        "id": "HhAuKiHeu5cJ",
        "outputId": "bef95f6b-934f-4dc3-cd8e-f9149003b49e"
      },
      "execution_count": 38,
      "outputs": [
        {
          "output_type": "stream",
          "name": "stdout",
          "text": [
            "Contador: 12\n",
            "\n",
            "\n",
            "Pesos: [0, -1, 1, -1, 0]\n"
          ]
        }
      ]
    },
    {
      "cell_type": "code",
      "source": [
        "# Checar se os valores obtidos e esperados estão dando igual\n",
        "for i in range(len(df)):\n",
        "    sum = Sgn(bias*W[0] + df.loc[i, \"Vírus\"]*W[1] + df.loc[i, \"Bactéria\"]*W[2] + df.loc[i, \"Dor_Cabeça\"]*W[3] + df.loc[i,\"Corisa\"]*W[4])\n",
        "\n",
        "    print(\"Valor obtido:\",sum,\"| Valor esperado:\",df.loc[i, \"Saída\"])"
      ],
      "metadata": {
        "id": "q8d_O-mhDt34",
        "colab": {
          "base_uri": "https://localhost:8080/"
        },
        "outputId": "a9d2d69a-1310-4009-92c8-53afc569a955"
      },
      "execution_count": 39,
      "outputs": [
        {
          "output_type": "stream",
          "name": "stdout",
          "text": [
            "Valor obtido: 0 | Valor esperado: 0\n",
            "Valor obtido: 1 | Valor esperado: 1\n",
            "Valor obtido: 0 | Valor esperado: 0\n",
            "Valor obtido: 1 | Valor esperado: 1\n",
            "Valor obtido: 0 | Valor esperado: 0\n",
            "Valor obtido: 1 | Valor esperado: 1\n"
          ]
        }
      ]
    },
    {
      "cell_type": "markdown",
      "source": [
        "#**Perguntas**"
      ],
      "metadata": {
        "id": "2Z9ZNN_P_GV9"
      }
    },
    {
      "cell_type": "markdown",
      "source": [
        "Questão 1: Quantas iterações são necessárias para encontrar os pesos corretos da base de treinamento? \\\\\n",
        "Resposta : Foram necessárias 12 iterações para encontrar os pesos [0, -1, 1 ,-1, 0]"
      ],
      "metadata": {
        "id": "hS4i3U3d_IUN"
      }
    },
    {
      "cell_type": "markdown",
      "source": [
        "Questão 2: Qual é o resultado para outros valores? \\\\"
      ],
      "metadata": {
        "id": "LCOF74aX_Os_"
      }
    },
    {
      "cell_type": "code",
      "source": [
        "Data1 = {\n",
        "    \n",
        "    'Nomes' : ['Gripe','Resfriado','Gripe','Resfriado','Gripe','Resfriado'],\n",
        "    'Vírus' : [1,1,0,0,1,0],\n",
        "    'Bactéria' : [1,0,1,1,0,0],\n",
        "    'Dor_Cabeça' : [1,0,0,1,0,0],\n",
        "    'Corisa' : [1,0,0,1,1,0],\n",
        "    'Saída' : [0,1,0,1,0,1]\n",
        "}"
      ],
      "metadata": {
        "id": "9xQX4WGnFR62"
      },
      "execution_count": 40,
      "outputs": []
    },
    {
      "cell_type": "code",
      "source": [
        "df1 = pd.DataFrame(Data1)"
      ],
      "metadata": {
        "id": "cze-W9BAFqf5"
      },
      "execution_count": 41,
      "outputs": []
    },
    {
      "cell_type": "code",
      "source": [
        "print(W)"
      ],
      "metadata": {
        "colab": {
          "base_uri": "https://localhost:8080/"
        },
        "id": "kZ0IZ7sAGHXn",
        "outputId": "1c96a1cc-160e-4bcd-b672-33ba071e38ce"
      },
      "execution_count": 43,
      "outputs": [
        {
          "output_type": "stream",
          "name": "stdout",
          "text": [
            "[0, -1, 1, -1, 0]\n"
          ]
        }
      ]
    },
    {
      "cell_type": "code",
      "source": [
        "#Resposta da questão 2\n",
        "for i in range(len(df)):\n",
        "    sum = Sgn(bias*W[0] + df.loc[i, \"Vírus\"]*W[1] + df.loc[i, \"Bactéria\"]*W[2] + df.loc[i, \"Dor_Cabeça\"]*W[3] + df.loc[i,\"Corisa\"]*W[4])\n",
        "\n",
        "    if sum == 0:\n",
        "      print(\"Valor obtido:\",sum , \"| Nome: Gripe\")\n",
        "    else:\n",
        "      print(\"Valor obtido:\",sum , \"| Nome: Resfriado\")\n"
      ],
      "metadata": {
        "colab": {
          "base_uri": "https://localhost:8080/"
        },
        "id": "6438VFLxFi16",
        "outputId": "4037d267-094a-4973-d189-233509824579"
      },
      "execution_count": 44,
      "outputs": [
        {
          "output_type": "stream",
          "name": "stdout",
          "text": [
            "Valor obtido: 0 | Nome: Gripe\n",
            "Valor obtido: 1 | Nome: Resfriado\n",
            "Valor obtido: 0 | Nome: Gripe\n",
            "Valor obtido: 1 | Nome: Resfriado\n",
            "Valor obtido: 0 | Nome: Gripe\n",
            "Valor obtido: 1 | Nome: Resfriado\n"
          ]
        }
      ]
    },
    {
      "cell_type": "markdown",
      "source": [
        "Questão 3: O programa parece ter alguma inteligência? Como ele se comporta? \\\\\n",
        "Resposta: "
      ],
      "metadata": {
        "id": "mvq1pVAnFRsn"
      }
    }
  ]
}