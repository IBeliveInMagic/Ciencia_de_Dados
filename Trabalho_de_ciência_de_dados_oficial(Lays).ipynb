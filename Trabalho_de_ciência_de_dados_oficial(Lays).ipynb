{
  "cells": [
    {
      "cell_type": "markdown",
      "metadata": {
        "id": "zFFVgs-mHDal"
      },
      "source": [
        "# Disciplina: Ciência de Dados (DCA-0131)\n",
        "## Prof. Luiz Affonso Guedes\n",
        "\n",
        "Departamento de Engenharia de Computação e Automação - DCA\n",
        "UFRN - 2021\n",
        "\n",
        "# COMPONENTES\n",
        "Paula de Souza Braz,\n",
        "Italo maciel e\n",
        "Lays de Freitas"
      ]
    },
    {
      "cell_type": "markdown",
      "metadata": {
        "id": "amPLcC6gGJ_H"
      },
      "source": [
        "# **REQUISITOS PRINCIPAIS DO TRABALHO**\n",
        "Trabalho 1 - EDA\n",
        "Descrição:\n",
        "Objetivo do Trabalho:\n",
        "\n",
        "- Construir um Notebook Python com Análise Exploratória e Dados (EDA) sobre uma base de dados a escolha da equipe.\n",
        "\n",
        "Objetivos Específicos: \n",
        "\n",
        "- Escolha da base de dados, justificando o motivo da escolha - relevância da informação associada a esses dados.\n",
        "\n",
        "- Pré-processamento dos dados na base de dados - captura, limpeza, imputação de dados, até a produção do Dataframe adequado à análise.\n",
        "\n",
        "- Análise exploratória dos dados utilizando técnicas estatísticas e de visualização de dados.\n",
        "\n",
        "- Preparação do notebook Python com todas essas etapas.\n",
        "\n",
        " \n",
        "\n",
        "Apresentação: \n",
        "\n",
        "- Produzir um vídeo de até 10 minutos contendo a explicação das diversas atividades desenvolvidas no notebook até a obtençãodos resultados da EDA.\n",
        "\n",
        "- Publicar o vídeo no Youtube.\n",
        "\n",
        "- Submeter o link do vídeo no Sigaa até a data de 08 de dezembro de 2021.\n",
        "\n",
        " \n",
        "\n",
        "Na aula síncrona do dia 09 de dezembro de 2021 todos os vídeos submetidos no sistema serão apresentados e avaliados.\n",
        "\n",
        "\n"
      ]
    },
    {
      "cell_type": "markdown",
      "source": [
        "# **Instalando requerimentos**"
      ],
      "metadata": {
        "id": "694ooxli1W5-"
      }
    },
    {
      "cell_type": "code",
      "execution_count": 1,
      "metadata": {
        "id": "et6les7rGLqu",
        "colab": {
          "base_uri": "https://localhost:8080/"
        },
        "outputId": "5b22f174-58e2-424c-e5ff-aee4e6b77208"
      },
      "outputs": [
        {
          "output_type": "stream",
          "name": "stdout",
          "text": [
            "Requirement already satisfied: folium in /usr/local/lib/python3.7/dist-packages (0.8.3)\n",
            "Requirement already satisfied: numpy in /usr/local/lib/python3.7/dist-packages (from folium) (1.19.5)\n",
            "Requirement already satisfied: six in /usr/local/lib/python3.7/dist-packages (from folium) (1.15.0)\n",
            "Requirement already satisfied: requests in /usr/local/lib/python3.7/dist-packages (from folium) (2.23.0)\n",
            "Requirement already satisfied: jinja2 in /usr/local/lib/python3.7/dist-packages (from folium) (2.11.3)\n",
            "Requirement already satisfied: branca>=0.3.0 in /usr/local/lib/python3.7/dist-packages (from folium) (0.4.2)\n",
            "Requirement already satisfied: MarkupSafe>=0.23 in /usr/local/lib/python3.7/dist-packages (from jinja2->folium) (2.0.1)\n",
            "Requirement already satisfied: chardet<4,>=3.0.2 in /usr/local/lib/python3.7/dist-packages (from requests->folium) (3.0.4)\n",
            "Requirement already satisfied: urllib3!=1.25.0,!=1.25.1,<1.26,>=1.21.1 in /usr/local/lib/python3.7/dist-packages (from requests->folium) (1.24.3)\n",
            "Requirement already satisfied: idna<3,>=2.5 in /usr/local/lib/python3.7/dist-packages (from requests->folium) (2.10)\n",
            "Requirement already satisfied: certifi>=2017.4.17 in /usr/local/lib/python3.7/dist-packages (from requests->folium) (2021.10.8)\n",
            "Requirement already satisfied: seaborn in /usr/local/lib/python3.7/dist-packages (0.11.2)\n",
            "Requirement already satisfied: scipy>=1.0 in /usr/local/lib/python3.7/dist-packages (from seaborn) (1.4.1)\n",
            "Requirement already satisfied: pandas>=0.23 in /usr/local/lib/python3.7/dist-packages (from seaborn) (1.1.5)\n",
            "Requirement already satisfied: numpy>=1.15 in /usr/local/lib/python3.7/dist-packages (from seaborn) (1.19.5)\n",
            "Requirement already satisfied: matplotlib>=2.2 in /usr/local/lib/python3.7/dist-packages (from seaborn) (3.2.2)\n",
            "Requirement already satisfied: kiwisolver>=1.0.1 in /usr/local/lib/python3.7/dist-packages (from matplotlib>=2.2->seaborn) (1.3.2)\n",
            "Requirement already satisfied: pyparsing!=2.0.4,!=2.1.2,!=2.1.6,>=2.0.1 in /usr/local/lib/python3.7/dist-packages (from matplotlib>=2.2->seaborn) (3.0.6)\n",
            "Requirement already satisfied: cycler>=0.10 in /usr/local/lib/python3.7/dist-packages (from matplotlib>=2.2->seaborn) (0.11.0)\n",
            "Requirement already satisfied: python-dateutil>=2.1 in /usr/local/lib/python3.7/dist-packages (from matplotlib>=2.2->seaborn) (2.8.2)\n",
            "Requirement already satisfied: pytz>=2017.2 in /usr/local/lib/python3.7/dist-packages (from pandas>=0.23->seaborn) (2018.9)\n",
            "Requirement already satisfied: six>=1.5 in /usr/local/lib/python3.7/dist-packages (from python-dateutil>=2.1->matplotlib>=2.2->seaborn) (1.15.0)\n"
          ]
        }
      ],
      "source": [
        "# Biblioteca para trabalhar com mapas:\n",
        "!pip install folium\n",
        "!pip install seaborn"
      ]
    },
    {
      "cell_type": "markdown",
      "source": [
        "# **Importações**"
      ],
      "metadata": {
        "id": "N4zk1MAJ1dbA"
      }
    },
    {
      "cell_type": "code",
      "source": [
        "import numpy as np\n",
        "import pandas as pd\n",
        "import matplotlib.pyplot as plt\n",
        "import plotly.express as px;\n",
        "import seaborn as sns\n",
        "import warnings\n",
        "warnings.simplefilter(\"ignore\")\n",
        "%matplotlib inline\n",
        "%pylab inline\n",
        "plt.style.use('ggplot')\n",
        "\n",
        "from scipy import stats\n",
        "from pandas import Series,DataFrame"
      ],
      "metadata": {
        "colab": {
          "base_uri": "https://localhost:8080/"
        },
        "id": "lPe-yNqz1h8h",
        "outputId": "1854532d-518a-4a58-a4a9-39dc973be6d8"
      },
      "execution_count": 2,
      "outputs": [
        {
          "output_type": "stream",
          "name": "stdout",
          "text": [
            "Populating the interactive namespace from numpy and matplotlib\n"
          ]
        }
      ]
    },
    {
      "cell_type": "markdown",
      "source": [
        "# **Carregando os dados**"
      ],
      "metadata": {
        "id": "gyKdi3Ys1pws"
      }
    },
    {
      "cell_type": "code",
      "source": [
        "from google.colab import drive\n",
        "drive.mount('/content/drive')"
      ],
      "metadata": {
        "colab": {
          "base_uri": "https://localhost:8080/"
        },
        "id": "l_xotVRe1pZk",
        "outputId": "2a78b302-4edb-4380-ee35-e4544d500ce7"
      },
      "execution_count": 3,
      "outputs": [
        {
          "output_type": "stream",
          "name": "stdout",
          "text": [
            "Mounted at /content/drive\n"
          ]
        }
      ]
    },
    {
      "cell_type": "code",
      "source": [
        "# Carregando a base de dados:\n",
        "\n",
        "dataset1 = pd.read_csv('/content/drive/My Drive/Colab Notebooks/finalizadas_2021-10.csv',sep=';',encoding='utf-8')\n",
        "# Visualizando as 5 primeiras linhas do Dataframe:\n",
        "dataset1.head()"
      ],
      "metadata": {
        "colab": {
          "base_uri": "https://localhost:8080/",
          "height": 573
        },
        "id": "cuTh8Ykb1wrq",
        "outputId": "18141430-c311-4f5b-d5fb-47bfddeaa1e9"
      },
      "execution_count": 4,
      "outputs": [
        {
          "output_type": "execute_result",
          "data": {
            "text/html": [
              "<div>\n",
              "<style scoped>\n",
              "    .dataframe tbody tr th:only-of-type {\n",
              "        vertical-align: middle;\n",
              "    }\n",
              "\n",
              "    .dataframe tbody tr th {\n",
              "        vertical-align: top;\n",
              "    }\n",
              "\n",
              "    .dataframe thead th {\n",
              "        text-align: right;\n",
              "    }\n",
              "</style>\n",
              "<table border=\"1\" class=\"dataframe\">\n",
              "  <thead>\n",
              "    <tr style=\"text-align: right;\">\n",
              "      <th></th>\n",
              "      <th>Região</th>\n",
              "      <th>UF</th>\n",
              "      <th>Cidade</th>\n",
              "      <th>Sexo</th>\n",
              "      <th>Faixa Etária</th>\n",
              "      <th>Data Finalização</th>\n",
              "      <th>Tempo Resposta</th>\n",
              "      <th>Nome Fantasia</th>\n",
              "      <th>Segmento de Mercado</th>\n",
              "      <th>Área</th>\n",
              "      <th>Assunto</th>\n",
              "      <th>Grupo Problema</th>\n",
              "      <th>Problema</th>\n",
              "      <th>Como Comprou Contratou</th>\n",
              "      <th>Procurou Empresa</th>\n",
              "      <th>Respondida</th>\n",
              "      <th>Situação</th>\n",
              "      <th>Avaliação Reclamação</th>\n",
              "      <th>Nota do Consumidor</th>\n",
              "    </tr>\n",
              "  </thead>\n",
              "  <tbody>\n",
              "    <tr>\n",
              "      <th>0</th>\n",
              "      <td>NE</td>\n",
              "      <td>PI</td>\n",
              "      <td>Teresina</td>\n",
              "      <td>F</td>\n",
              "      <td>entre 21 a 30 anos</td>\n",
              "      <td>2021-10-01</td>\n",
              "      <td>NaN</td>\n",
              "      <td>BRB - Banco de Brasília</td>\n",
              "      <td>Bancos, Financeiras e Administradoras de Cartão</td>\n",
              "      <td>Serviços Financeiros</td>\n",
              "      <td>Crédito Consignado / Cartão de Crédito Consign...</td>\n",
              "      <td>Contrato / Oferta</td>\n",
              "      <td>Oferta não cumprida / serviço não fornecido/ v...</td>\n",
              "      <td>Não comprei / contratei</td>\n",
              "      <td>N</td>\n",
              "      <td>N</td>\n",
              "      <td>Finalizada não avaliada</td>\n",
              "      <td>Não Avaliada</td>\n",
              "      <td>NaN</td>\n",
              "    </tr>\n",
              "    <tr>\n",
              "      <th>1</th>\n",
              "      <td>S</td>\n",
              "      <td>RS</td>\n",
              "      <td>São Borja</td>\n",
              "      <td>F</td>\n",
              "      <td>entre 61 a 70 anos</td>\n",
              "      <td>2021-10-01</td>\n",
              "      <td>NaN</td>\n",
              "      <td>Facta Financeira</td>\n",
              "      <td>Bancos, Financeiras e Administradoras de Cartão</td>\n",
              "      <td>Serviços Financeiros</td>\n",
              "      <td>Crédito Consignado / Cartão de Crédito Consign...</td>\n",
              "      <td>Atendimento / SAC</td>\n",
              "      <td>Dificuldade de contato / acesso a outros canai...</td>\n",
              "      <td>Telefone</td>\n",
              "      <td>S</td>\n",
              "      <td>N</td>\n",
              "      <td>Finalizada não avaliada</td>\n",
              "      <td>Não Avaliada</td>\n",
              "      <td>NaN</td>\n",
              "    </tr>\n",
              "    <tr>\n",
              "      <th>2</th>\n",
              "      <td>S</td>\n",
              "      <td>RS</td>\n",
              "      <td>Sapiranga</td>\n",
              "      <td>M</td>\n",
              "      <td>entre 61 a 70 anos</td>\n",
              "      <td>2021-10-01</td>\n",
              "      <td>NaN</td>\n",
              "      <td>Facta Financeira</td>\n",
              "      <td>Bancos, Financeiras e Administradoras de Cartão</td>\n",
              "      <td>Serviços Financeiros</td>\n",
              "      <td>Crédito Consignado / Cartão de Crédito Consign...</td>\n",
              "      <td>Cobrança / Contestação</td>\n",
              "      <td>Cobrança por serviço/produto não contratado / ...</td>\n",
              "      <td>Não comprei / contratei</td>\n",
              "      <td>S</td>\n",
              "      <td>N</td>\n",
              "      <td>Finalizada não avaliada</td>\n",
              "      <td>Não Avaliada</td>\n",
              "      <td>NaN</td>\n",
              "    </tr>\n",
              "    <tr>\n",
              "      <th>3</th>\n",
              "      <td>S</td>\n",
              "      <td>RS</td>\n",
              "      <td>Porto Alegre</td>\n",
              "      <td>M</td>\n",
              "      <td>entre 21 a 30 anos</td>\n",
              "      <td>2021-10-01</td>\n",
              "      <td>10.0</td>\n",
              "      <td>Vivo - Telefônica</td>\n",
              "      <td>Operadoras de Telecomunicações (Telefonia, Int...</td>\n",
              "      <td>Produtos de Telefonia e Informática</td>\n",
              "      <td>Aparelho celular</td>\n",
              "      <td>Cobrança / Contestação</td>\n",
              "      <td>Cobrança indevida / abusiva para alterar ou ca...</td>\n",
              "      <td>Internet</td>\n",
              "      <td>S</td>\n",
              "      <td>S</td>\n",
              "      <td>Finalizada não avaliada</td>\n",
              "      <td>Não Avaliada</td>\n",
              "      <td>NaN</td>\n",
              "    </tr>\n",
              "    <tr>\n",
              "      <th>4</th>\n",
              "      <td>NE</td>\n",
              "      <td>PE</td>\n",
              "      <td>Carpina</td>\n",
              "      <td>M</td>\n",
              "      <td>entre 21 a 30 anos</td>\n",
              "      <td>2021-10-01</td>\n",
              "      <td>10.0</td>\n",
              "      <td>Vivo - Telefônica</td>\n",
              "      <td>Operadoras de Telecomunicações (Telefonia, Int...</td>\n",
              "      <td>Telecomunicações</td>\n",
              "      <td>Telefonia Móvel Pós-paga</td>\n",
              "      <td>Atendimento / SAC</td>\n",
              "      <td>Dificuldade de contato / acesso a outros canai...</td>\n",
              "      <td>Internet</td>\n",
              "      <td>S</td>\n",
              "      <td>S</td>\n",
              "      <td>Finalizada não avaliada</td>\n",
              "      <td>Não Avaliada</td>\n",
              "      <td>NaN</td>\n",
              "    </tr>\n",
              "  </tbody>\n",
              "</table>\n",
              "</div>"
            ],
            "text/plain": [
              "  Região  UF  ... Avaliação Reclamação Nota do Consumidor\n",
              "0     NE  PI  ...         Não Avaliada                NaN\n",
              "1     S   RS  ...         Não Avaliada                NaN\n",
              "2     S   RS  ...         Não Avaliada                NaN\n",
              "3     S   RS  ...         Não Avaliada                NaN\n",
              "4     NE  PE  ...         Não Avaliada                NaN\n",
              "\n",
              "[5 rows x 19 columns]"
            ]
          },
          "metadata": {},
          "execution_count": 4
        }
      ]
    },
    {
      "cell_type": "markdown",
      "source": [
        "# **Começando a tratar os dados**"
      ],
      "metadata": {
        "id": "AjUat2NZ15Bh"
      }
    },
    {
      "cell_type": "code",
      "source": [
        "#Excluindo colunas não relevantes\n",
        "dataset1.pop(\"Sexo\")\n",
        "dataset1.pop(\"Faixa Etária\")"
      ],
      "metadata": {
        "colab": {
          "base_uri": "https://localhost:8080/"
        },
        "id": "EI579VjM150F",
        "outputId": "c71d2a62-ae72-4299-db4c-6c2352525141"
      },
      "execution_count": 5,
      "outputs": [
        {
          "output_type": "execute_result",
          "data": {
            "text/plain": [
              "0         entre 21 a 30 anos\n",
              "1         entre 61 a 70 anos\n",
              "2         entre 61 a 70 anos\n",
              "3         entre 21 a 30 anos\n",
              "4         entre 21 a 30 anos\n",
              "                 ...        \n",
              "120703    entre 31 a 40 anos\n",
              "120704    entre 41 a 50 anos\n",
              "120705    entre 51 a 60 anos\n",
              "120706    entre 21 a 30 anos\n",
              "120707    entre 31 a 40 anos\n",
              "Name: Faixa Etária, Length: 120708, dtype: object"
            ]
          },
          "metadata": {},
          "execution_count": 5
        }
      ]
    },
    {
      "cell_type": "code",
      "source": [
        "#vizualizando a tabela\n",
        "dataset1.head()"
      ],
      "metadata": {
        "colab": {
          "base_uri": "https://localhost:8080/",
          "height": 573
        },
        "id": "QrQ1d9CQ18XA",
        "outputId": "76031367-11a5-4bca-eed9-7969b71f4dde"
      },
      "execution_count": 6,
      "outputs": [
        {
          "output_type": "execute_result",
          "data": {
            "text/html": [
              "<div>\n",
              "<style scoped>\n",
              "    .dataframe tbody tr th:only-of-type {\n",
              "        vertical-align: middle;\n",
              "    }\n",
              "\n",
              "    .dataframe tbody tr th {\n",
              "        vertical-align: top;\n",
              "    }\n",
              "\n",
              "    .dataframe thead th {\n",
              "        text-align: right;\n",
              "    }\n",
              "</style>\n",
              "<table border=\"1\" class=\"dataframe\">\n",
              "  <thead>\n",
              "    <tr style=\"text-align: right;\">\n",
              "      <th></th>\n",
              "      <th>Região</th>\n",
              "      <th>UF</th>\n",
              "      <th>Cidade</th>\n",
              "      <th>Data Finalização</th>\n",
              "      <th>Tempo Resposta</th>\n",
              "      <th>Nome Fantasia</th>\n",
              "      <th>Segmento de Mercado</th>\n",
              "      <th>Área</th>\n",
              "      <th>Assunto</th>\n",
              "      <th>Grupo Problema</th>\n",
              "      <th>Problema</th>\n",
              "      <th>Como Comprou Contratou</th>\n",
              "      <th>Procurou Empresa</th>\n",
              "      <th>Respondida</th>\n",
              "      <th>Situação</th>\n",
              "      <th>Avaliação Reclamação</th>\n",
              "      <th>Nota do Consumidor</th>\n",
              "    </tr>\n",
              "  </thead>\n",
              "  <tbody>\n",
              "    <tr>\n",
              "      <th>0</th>\n",
              "      <td>NE</td>\n",
              "      <td>PI</td>\n",
              "      <td>Teresina</td>\n",
              "      <td>2021-10-01</td>\n",
              "      <td>NaN</td>\n",
              "      <td>BRB - Banco de Brasília</td>\n",
              "      <td>Bancos, Financeiras e Administradoras de Cartão</td>\n",
              "      <td>Serviços Financeiros</td>\n",
              "      <td>Crédito Consignado / Cartão de Crédito Consign...</td>\n",
              "      <td>Contrato / Oferta</td>\n",
              "      <td>Oferta não cumprida / serviço não fornecido/ v...</td>\n",
              "      <td>Não comprei / contratei</td>\n",
              "      <td>N</td>\n",
              "      <td>N</td>\n",
              "      <td>Finalizada não avaliada</td>\n",
              "      <td>Não Avaliada</td>\n",
              "      <td>NaN</td>\n",
              "    </tr>\n",
              "    <tr>\n",
              "      <th>1</th>\n",
              "      <td>S</td>\n",
              "      <td>RS</td>\n",
              "      <td>São Borja</td>\n",
              "      <td>2021-10-01</td>\n",
              "      <td>NaN</td>\n",
              "      <td>Facta Financeira</td>\n",
              "      <td>Bancos, Financeiras e Administradoras de Cartão</td>\n",
              "      <td>Serviços Financeiros</td>\n",
              "      <td>Crédito Consignado / Cartão de Crédito Consign...</td>\n",
              "      <td>Atendimento / SAC</td>\n",
              "      <td>Dificuldade de contato / acesso a outros canai...</td>\n",
              "      <td>Telefone</td>\n",
              "      <td>S</td>\n",
              "      <td>N</td>\n",
              "      <td>Finalizada não avaliada</td>\n",
              "      <td>Não Avaliada</td>\n",
              "      <td>NaN</td>\n",
              "    </tr>\n",
              "    <tr>\n",
              "      <th>2</th>\n",
              "      <td>S</td>\n",
              "      <td>RS</td>\n",
              "      <td>Sapiranga</td>\n",
              "      <td>2021-10-01</td>\n",
              "      <td>NaN</td>\n",
              "      <td>Facta Financeira</td>\n",
              "      <td>Bancos, Financeiras e Administradoras de Cartão</td>\n",
              "      <td>Serviços Financeiros</td>\n",
              "      <td>Crédito Consignado / Cartão de Crédito Consign...</td>\n",
              "      <td>Cobrança / Contestação</td>\n",
              "      <td>Cobrança por serviço/produto não contratado / ...</td>\n",
              "      <td>Não comprei / contratei</td>\n",
              "      <td>S</td>\n",
              "      <td>N</td>\n",
              "      <td>Finalizada não avaliada</td>\n",
              "      <td>Não Avaliada</td>\n",
              "      <td>NaN</td>\n",
              "    </tr>\n",
              "    <tr>\n",
              "      <th>3</th>\n",
              "      <td>S</td>\n",
              "      <td>RS</td>\n",
              "      <td>Porto Alegre</td>\n",
              "      <td>2021-10-01</td>\n",
              "      <td>10.0</td>\n",
              "      <td>Vivo - Telefônica</td>\n",
              "      <td>Operadoras de Telecomunicações (Telefonia, Int...</td>\n",
              "      <td>Produtos de Telefonia e Informática</td>\n",
              "      <td>Aparelho celular</td>\n",
              "      <td>Cobrança / Contestação</td>\n",
              "      <td>Cobrança indevida / abusiva para alterar ou ca...</td>\n",
              "      <td>Internet</td>\n",
              "      <td>S</td>\n",
              "      <td>S</td>\n",
              "      <td>Finalizada não avaliada</td>\n",
              "      <td>Não Avaliada</td>\n",
              "      <td>NaN</td>\n",
              "    </tr>\n",
              "    <tr>\n",
              "      <th>4</th>\n",
              "      <td>NE</td>\n",
              "      <td>PE</td>\n",
              "      <td>Carpina</td>\n",
              "      <td>2021-10-01</td>\n",
              "      <td>10.0</td>\n",
              "      <td>Vivo - Telefônica</td>\n",
              "      <td>Operadoras de Telecomunicações (Telefonia, Int...</td>\n",
              "      <td>Telecomunicações</td>\n",
              "      <td>Telefonia Móvel Pós-paga</td>\n",
              "      <td>Atendimento / SAC</td>\n",
              "      <td>Dificuldade de contato / acesso a outros canai...</td>\n",
              "      <td>Internet</td>\n",
              "      <td>S</td>\n",
              "      <td>S</td>\n",
              "      <td>Finalizada não avaliada</td>\n",
              "      <td>Não Avaliada</td>\n",
              "      <td>NaN</td>\n",
              "    </tr>\n",
              "  </tbody>\n",
              "</table>\n",
              "</div>"
            ],
            "text/plain": [
              "  Região  UF  ... Avaliação Reclamação Nota do Consumidor\n",
              "0     NE  PI  ...         Não Avaliada                NaN\n",
              "1     S   RS  ...         Não Avaliada                NaN\n",
              "2     S   RS  ...         Não Avaliada                NaN\n",
              "3     S   RS  ...         Não Avaliada                NaN\n",
              "4     NE  PE  ...         Não Avaliada                NaN\n",
              "\n",
              "[5 rows x 17 columns]"
            ]
          },
          "metadata": {},
          "execution_count": 6
        }
      ]
    },
    {
      "cell_type": "code",
      "source": [
        "dataset = dataset1['Segmento de Mercado'].value_counts().head()\n",
        "dataset_array = dataset.array\n",
        "\n",
        "dataset_array"
      ],
      "metadata": {
        "colab": {
          "base_uri": "https://localhost:8080/"
        },
        "id": "sAHUL64tctM0",
        "outputId": "06885e32-4714-4024-c67d-7a9c03ab45c3"
      },
      "execution_count": 7,
      "outputs": [
        {
          "output_type": "execute_result",
          "data": {
            "text/plain": [
              "<PandasArray>\n",
              "[36483, 25027, 11407, 7927, 5156]\n",
              "Length: 5, dtype: int64"
            ]
          },
          "metadata": {},
          "execution_count": 7
        }
      ]
    },
    {
      "cell_type": "code",
      "source": [
        "dataSet = dataset1['Segmento de Mercado'].unique()\n",
        "\n",
        "dataSet"
      ],
      "metadata": {
        "colab": {
          "base_uri": "https://localhost:8080/"
        },
        "id": "qbNuNTXVB9jn",
        "outputId": "ef547710-6fad-43e9-fb01-5a86eb9056f8"
      },
      "execution_count": 8,
      "outputs": [
        {
          "output_type": "execute_result",
          "data": {
            "text/plain": [
              "array(['Bancos, Financeiras e Administradoras de Cartão',\n",
              "       'Operadoras de Telecomunicações (Telefonia, Internet, TV por assinatura)',\n",
              "       'Seguros, Capitalização e Previdência', 'Energia Elétrica',\n",
              "       'Comércio Eletrônico', 'Empresas de Pagamento Eletrônico',\n",
              "       'Empresas de Intermediação de Serviços / Negócios',\n",
              "       'Programas de Fidelidade', 'Agua e Saneamento',\n",
              "       'Perfumaria, Cosméticos e Higiene Pessoal', 'Varejo',\n",
              "       'Fabricantes - Eletroeletrônicos,  Produtos de Telefonia e Informática',\n",
              "       'Montadoras, Concessionárias e Prestadores de Serviços Automotivos',\n",
              "       'Viagens, Turismo e Hospedagem', 'Transporte Aéreo',\n",
              "       'Provedores de Conteúdo e Outros Serviços na Internet',\n",
              "       'Administradoras de Consórcios',\n",
              "       'Operadoras de Planos de Saúde e Administradoras de Benefícios',\n",
              "       'Distribuidoras de Combustíveis / Gás',\n",
              "       'Fabricantes - Eletroportáteis e Artigos de Uso Doméstico e Pessoal',\n",
              "       'Supermercados', 'Empresas de Recuperação de Crédito',\n",
              "       'Construtoras, Incorporadoras e Imobiliárias',\n",
              "       'Vestuário, Calçados e Acessórios', 'Estabelecimentos de Ensino',\n",
              "       'Empresas de Serviços Postais e Logística', 'Cartões de Descontos',\n",
              "       'Editoras e Veículos de Imprensa',\n",
              "       'Corretoras e Distribuidoras de Títulos e Investimentos',\n",
              "       'Fabricantes - Linha Branca',\n",
              "       'Bancos de Dados e Cadastros de Consumidores',\n",
              "       'Transporte Terrestre', 'Entretenimento',\n",
              "       'Material de Construção, Acabamento e Ferramentas',\n",
              "       'Serviços Esportivos', 'Aluguel de Carros',\n",
              "       'Fabricantes - Produtos Alimentícios', 'Farmácias',\n",
              "       'Entidades Sem Fins Lucrativos',\n",
              "       'Bares, Restaurantes, Casas Noturnas e Similares',\n",
              "       'Fabricantes - Móveis, Colchões e Acessórios',\n",
              "       'Fabricantes - Produtos Químicos e Farmacêuticos'], dtype=object)"
            ]
          },
          "metadata": {},
          "execution_count": 8
        }
      ]
    },
    {
      "cell_type": "code",
      "source": [
        "# Quantidade de reclamações por \"UF\" existentes\n",
        "\n",
        "ReclamacoesDF = dataset1['UF'].value_counts()\n",
        "ReclamacoesDF"
      ],
      "metadata": {
        "colab": {
          "base_uri": "https://localhost:8080/"
        },
        "id": "gmIkf8s-1-iA",
        "outputId": "9ebc17ed-9a2e-45ed-cf0e-5917da644a7a"
      },
      "execution_count": 9,
      "outputs": [
        {
          "output_type": "execute_result",
          "data": {
            "text/plain": [
              "SP    28006\n",
              "MG    13383\n",
              "RJ    11646\n",
              "PR     9776\n",
              "RS     8514\n",
              "BA     6746\n",
              "DF     5981\n",
              "SC     5151\n",
              "GO     3980\n",
              "CE     3266\n",
              "PE     3172\n",
              "ES     2891\n",
              "MA     2798\n",
              "MT     2148\n",
              "PI     1857\n",
              "PA     1638\n",
              "PB     1507\n",
              "AM     1470\n",
              "TO     1428\n",
              "MS     1416\n",
              "RN     1059\n",
              "AL     1037\n",
              "SE      656\n",
              "RO      469\n",
              "AC      302\n",
              "RR      208\n",
              "AP      203\n",
              "Name: UF, dtype: int64"
            ]
          },
          "metadata": {},
          "execution_count": 9
        }
      ]
    },
    {
      "cell_type": "code",
      "source": [
        "# Criando um DataFrame com apenas as colunas 'UF' e 'Respondida'\n",
        "DF1 = dataset1[['Região','UF','Cidade','Respondida','Avaliação Reclamação']]\n",
        "\n",
        "indexNames = DF1[ (DF1['Respondida'] == 'N') ].index\n",
        "DF1.drop(indexNames , inplace=True)\n",
        "\n",
        "#Teste para verificar se as linhas com Respondida igual a N foram apagadas\n",
        "#DF1['Respondida'].value_counts()\n",
        "\n",
        "# Criando um array com os valores de cada Avaliação Reclamanão em cada Cidade de cada UF\n",
        "#DF1_array = DF1.value_counts()\n",
        "\n",
        "#DF2 = pd.DataFrame(DF1_array)"
      ],
      "metadata": {
        "id": "FI0uBTqY2AUu"
      },
      "execution_count": 10,
      "outputs": []
    },
    {
      "cell_type": "code",
      "source": [
        "DF1.value_counts()"
      ],
      "metadata": {
        "colab": {
          "base_uri": "https://localhost:8080/"
        },
        "id": "bypbWE7t9lgo",
        "outputId": "b5c2989c-a2ae-4406-a650-edf2892f13e6"
      },
      "execution_count": 11,
      "outputs": [
        {
          "output_type": "execute_result",
          "data": {
            "text/plain": [
              "Região  UF  Cidade          Respondida  Avaliação Reclamação\n",
              "SE      SP  São Paulo       S           Não Avaliada            5072\n",
              "                                        Resolvida               3163\n",
              "        RJ  Rio de Janeiro  S           Não Avaliada            2970\n",
              "CO      DF  Brasília        S           Não Avaliada            2691\n",
              "SE      SP  São Paulo       S           Não Resolvida           2637\n",
              "                                                                ... \n",
              "        ES  Mimoso do Sul   S           Não Resolvida              1\n",
              "            Mucurici        S           Não Avaliada               1\n",
              "NE      MA  Codozinho       S           Não Avaliada               1\n",
              "SE      ES  Muniz Freire    S           Não Resolvida              1\n",
              "S       PR  Pato Branco     S           Não Resolvida              1\n",
              "Length: 7510, dtype: int64"
            ]
          },
          "metadata": {},
          "execution_count": 11
        }
      ]
    },
    {
      "cell_type": "code",
      "source": [
        "indexNames = DF1[ (DF1['UF'] != 'N') ].index\n",
        "DF1_1 =  DF1.drop(indexNames)"
      ],
      "metadata": {
        "id": "2qyWmLwZzhKU"
      },
      "execution_count": 12,
      "outputs": []
    },
    {
      "cell_type": "code",
      "source": [
        "#scatter plot\n",
        "\n",
        "#fig=px.scatter(DF2, x = \"Tempo Resposta\", y = \"Respondida\", size = \"0\", color = \"UF\",\n",
        "#               hover_name = \"Cidade\", log_x = True, size_max = 60, width = 800)\n",
        "#fig.update_layout(title = 'Logaritmo do PIB per capita X Expectativa de vida no ano de 2019')\n",
        "#fig.update_xaxes(title = 'Log (PIB per capita)')\n",
        "#fig.update_yaxes(title = 'Expectativa de vida')\n",
        "#fig.show()"
      ],
      "metadata": {
        "id": "hzfvLNLM2CPL"
      },
      "execution_count": 13,
      "outputs": []
    },
    {
      "cell_type": "code",
      "source": [
        "sns.set_theme(style=\"darkgrid\")\n",
        "ax = sns.countplot(y=\"Região\", hue=\"Avaliação Reclamação\", data=DF1)"
      ],
      "metadata": {
        "colab": {
          "base_uri": "https://localhost:8080/",
          "height": 285
        },
        "id": "oopriJV-r_Pr",
        "outputId": "cf3e2b53-afa8-42cc-a5e4-180a4ddfc2a0"
      },
      "execution_count": 14,
      "outputs": [
        {
          "output_type": "display_data",
          "data": {
            "image/png": "[encoded data removed]",
            "text/plain": [
              "<Figure size 432x288 with 1 Axes>"
            ]
          },
          "metadata": {}
        }
      ]
    },
    {
      "cell_type": "code",
      "source": [
        "#Estes consumidores procuram a empresa antes de registrar uma reclamação?\n",
        "DF3 = dataset1['Procurou Empresa'].value_counts()\n",
        "DF3"
      ],
      "metadata": {
        "colab": {
          "base_uri": "https://localhost:8080/"
        },
        "id": "W4X38A0fKF5q",
        "outputId": "03e83aa4-4b96-4b1e-b591-27fbc87f4b3d"
      },
      "execution_count": 15,
      "outputs": [
        {
          "output_type": "execute_result",
          "data": {
            "text/plain": [
              "S    101536\n",
              "N     19172\n",
              "Name: Procurou Empresa, dtype: int64"
            ]
          },
          "metadata": {},
          "execution_count": 15
        }
      ]
    },
    {
      "cell_type": "code",
      "source": [
        "QtdSN = 101536 + 19172\n",
        "QtdSN"
      ],
      "metadata": {
        "colab": {
          "base_uri": "https://localhost:8080/"
        },
        "id": "Fnw9xgA_KcPL",
        "outputId": "2de3c192-b537-45ad-9ff1-9909b3b7de21"
      },
      "execution_count": 16,
      "outputs": [
        {
          "output_type": "execute_result",
          "data": {
            "text/plain": [
              "120708"
            ]
          },
          "metadata": {},
          "execution_count": 16
        }
      ]
    },
    {
      "cell_type": "code",
      "source": [
        "# Quantidade de reclamações por \"nome fantasia\" existentes \n",
        "\n",
        "NomeFantasiaDF = dataset1['Nome Fantasia'].value_counts()\n",
        "NomeFantasiaDF.head()"
      ],
      "metadata": {
        "id": "p1DM23df2EY5",
        "colab": {
          "base_uri": "https://localhost:8080/"
        },
        "outputId": "930319fa-bcdf-4e91-fc53-0f548ec7241e"
      },
      "execution_count": 17,
      "outputs": [
        {
          "output_type": "execute_result",
          "data": {
            "text/plain": [
              "Vivo - Telefônica          8703\n",
              "Gol Linhas Aéreas          5043\n",
              "Caixa Econômica Federal    3722\n",
              "Claro Celular              3621\n",
              "Tim                        3443\n",
              "Name: Nome Fantasia, dtype: int64"
            ]
          },
          "metadata": {},
          "execution_count": 17
        }
      ]
    },
    {
      "cell_type": "markdown",
      "source": [
        ""
      ],
      "metadata": {
        "id": "heVwGpx3TsPp"
      }
    }
  ],
  "metadata": {
    "colab": {
      "collapsed_sections": [],
      "name": "Trabalho de ciência de dados_oficial(Lays).ipynb",
      "provenance": []
    },
    "kernelspec": {
      "display_name": "Python 3",
      "name": "python3"
    },
    "language_info": {
      "name": "python"
    }
  },
  "nbformat": 4,
  "nbformat_minor": 0
}