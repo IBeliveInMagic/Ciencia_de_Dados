{
  "nbformat": 4,
  "nbformat_minor": 0,
  "metadata": {
    "colab": {
      "name": "KNN_ReclamaçõesdeConsumidores.ipynb",
      "provenance": [],
      "authorship_tag": "ABX9TyNHmne4v8Pf7rcGnGWPzZKk",
      "include_colab_link": true
    },
    "kernelspec": {
      "name": "python3",
      "display_name": "Python 3"
    },
    "language_info": {
      "name": "python"
    }
  },
  "cells": [
    {
      "cell_type": "markdown",
      "metadata": {
        "id": "view-in-github",
        "colab_type": "text"
      },
      "source": [
        "<a href=\"https://colab.research.google.com/github/IBeliveInMagic/Ciencia_de_Dados/blob/main/KNN_Reclama%C3%A7%C3%B5esdeConsumidores.ipynb\" target=\"_parent\"><img src=\"https://colab.research.google.com/assets/colab-badge.svg\" alt=\"Open In Colab\"/></a>"
      ]
    },
    {
      "cell_type": "markdown",
      "source": [
        "*O algoritmo KNN também chamado de K-nearest Neighbors possui como objetivo determinar qual grupo uma determinada amostra vai pertencer com base nas amostras vizinhas através do cálculo da distância euclidiana entre seus vizinhos.*\n",
        "\n",
        "\n"
      ],
      "metadata": {
        "id": "RemfPXqOqcak"
      }
    },
    {
      "cell_type": "markdown",
      "source": [
        "# **Importando as bibliotecas**\n",
        "\n",
        "\n"
      ],
      "metadata": {
        "id": "9MNszctwPRi1"
      }
    },
    {
      "cell_type": "code",
      "source": [
        "!pip install mlxtend"
      ],
      "metadata": {
        "colab": {
          "base_uri": "https://localhost:8080/"
        },
        "id": "XeTE1UQAVaTJ",
        "outputId": "b0ffa783-0d24-429e-fa37-0fa75daccf9c"
      },
      "execution_count": 1,
      "outputs": [
        {
          "output_type": "stream",
          "name": "stdout",
          "text": [
            "Requirement already satisfied: mlxtend in /usr/local/lib/python3.7/dist-packages (0.14.0)\n",
            "Requirement already satisfied: setuptools in /usr/local/lib/python3.7/dist-packages (from mlxtend) (57.4.0)\n",
            "Requirement already satisfied: scipy>=0.17 in /usr/local/lib/python3.7/dist-packages (from mlxtend) (1.4.1)\n",
            "Requirement already satisfied: pandas>=0.17.1 in /usr/local/lib/python3.7/dist-packages (from mlxtend) (1.3.5)\n",
            "Requirement already satisfied: scikit-learn>=0.18 in /usr/local/lib/python3.7/dist-packages (from mlxtend) (1.0.2)\n",
            "Requirement already satisfied: numpy>=1.10.4 in /usr/local/lib/python3.7/dist-packages (from mlxtend) (1.21.5)\n",
            "Requirement already satisfied: matplotlib>=1.5.1 in /usr/local/lib/python3.7/dist-packages (from mlxtend) (3.2.2)\n",
            "Requirement already satisfied: pyparsing!=2.0.4,!=2.1.2,!=2.1.6,>=2.0.1 in /usr/local/lib/python3.7/dist-packages (from matplotlib>=1.5.1->mlxtend) (3.0.7)\n",
            "Requirement already satisfied: python-dateutil>=2.1 in /usr/local/lib/python3.7/dist-packages (from matplotlib>=1.5.1->mlxtend) (2.8.2)\n",
            "Requirement already satisfied: kiwisolver>=1.0.1 in /usr/local/lib/python3.7/dist-packages (from matplotlib>=1.5.1->mlxtend) (1.3.2)\n",
            "Requirement already satisfied: cycler>=0.10 in /usr/local/lib/python3.7/dist-packages (from matplotlib>=1.5.1->mlxtend) (0.11.0)\n",
            "Requirement already satisfied: pytz>=2017.3 in /usr/local/lib/python3.7/dist-packages (from pandas>=0.17.1->mlxtend) (2018.9)\n",
            "Requirement already satisfied: six>=1.5 in /usr/local/lib/python3.7/dist-packages (from python-dateutil>=2.1->matplotlib>=1.5.1->mlxtend) (1.15.0)\n",
            "Requirement already satisfied: joblib>=0.11 in /usr/local/lib/python3.7/dist-packages (from scikit-learn>=0.18->mlxtend) (1.1.0)\n",
            "Requirement already satisfied: threadpoolctl>=2.0.0 in /usr/local/lib/python3.7/dist-packages (from scikit-learn>=0.18->mlxtend) (3.1.0)\n"
          ]
        }
      ]
    },
    {
      "cell_type": "code",
      "execution_count": 2,
      "metadata": {
        "id": "AHH0_1J5SmVb"
      },
      "outputs": [],
      "source": [
        "#Importa as bibliotecas\n",
        "\n",
        "import plotly.graph_objects as go\n",
        "import pandas as pd\n",
        "import numpy as np\n",
        "import plotly.express as px\n",
        "import matplotlib.pyplot as plt\n",
        "import warnings\n",
        "warnings.simplefilter(\"ignore\")\n",
        "\n",
        "from sklearn import datasets\n",
        "from sklearn.model_selection import train_test_split\n",
        "from sklearn.neighbors import KNeighborsClassifier\n",
        "from sklearn.preprocessing import LabelEncoder\n",
        "from sklearn.model_selection import GridSearchCV\n",
        "from mlxtend.plotting import plot_decision_regions\n"
      ]
    },
    {
      "cell_type": "markdown",
      "source": [
        "# **Importando os dados**"
      ],
      "metadata": {
        "id": "6bBgAmtcPYRB"
      }
    },
    {
      "cell_type": "code",
      "source": [
        "#Importar os dados\n",
        "\n",
        "dataset = pd.read_csv('finalizadas_2021-10.csv',sep=';',encoding='utf-8')\n",
        "\n",
        "dataset.tail()"
      ],
      "metadata": {
        "colab": {
          "base_uri": "https://localhost:8080/",
          "height": 565
        },
        "id": "lI1mnGP93h5t",
        "outputId": "2f3f1113-2f15-43b5-c9a5-2067105dcd99"
      },
      "execution_count": 3,
      "outputs": [
        {
          "output_type": "execute_result",
          "data": {
            "text/html": [
              "\n",
              "  <div id=\"df-e5f2cdbe-35b4-4154-be1c-59527c84693a\">\n",
              "    <div class=\"colab-df-container\">\n",
              "      <div>\n",
              "<style scoped>\n",
              "    .dataframe tbody tr th:only-of-type {\n",
              "        vertical-align: middle;\n",
              "    }\n",
              "\n",
              "    .dataframe tbody tr th {\n",
              "        vertical-align: top;\n",
              "    }\n",
              "\n",
              "    .dataframe thead th {\n",
              "        text-align: right;\n",
              "    }\n",
              "</style>\n",
              "<table border=\"1\" class=\"dataframe\">\n",
              "  <thead>\n",
              "    <tr style=\"text-align: right;\">\n",
              "      <th></th>\n",
              "      <th>Região</th>\n",
              "      <th>UF</th>\n",
              "      <th>Cidade</th>\n",
              "      <th>Sexo</th>\n",
              "      <th>Faixa Etária</th>\n",
              "      <th>Data Finalização</th>\n",
              "      <th>Tempo Resposta</th>\n",
              "      <th>Nome Fantasia</th>\n",
              "      <th>Segmento de Mercado</th>\n",
              "      <th>Área</th>\n",
              "      <th>Assunto</th>\n",
              "      <th>Grupo Problema</th>\n",
              "      <th>Problema</th>\n",
              "      <th>Como Comprou Contratou</th>\n",
              "      <th>Procurou Empresa</th>\n",
              "      <th>Respondida</th>\n",
              "      <th>Situação</th>\n",
              "      <th>Avaliação Reclamação</th>\n",
              "      <th>Nota do Consumidor</th>\n",
              "    </tr>\n",
              "  </thead>\n",
              "  <tbody>\n",
              "    <tr>\n",
              "      <th>120703</th>\n",
              "      <td>SE</td>\n",
              "      <td>MG</td>\n",
              "      <td>Ipatinga</td>\n",
              "      <td>F</td>\n",
              "      <td>entre 31 a 40 anos</td>\n",
              "      <td>2021-10-30</td>\n",
              "      <td>0.0</td>\n",
              "      <td>SKY</td>\n",
              "      <td>Operadoras de Telecomunicações (Telefonia, Int...</td>\n",
              "      <td>Telecomunicações</td>\n",
              "      <td>TV por Assinatura</td>\n",
              "      <td>Cobrança / Contestação</td>\n",
              "      <td>Renegociação / parcelamento de dívida</td>\n",
              "      <td>Domicílio</td>\n",
              "      <td>S</td>\n",
              "      <td>S</td>\n",
              "      <td>Finalizada avaliada</td>\n",
              "      <td>Resolvida</td>\n",
              "      <td>5.0</td>\n",
              "    </tr>\n",
              "    <tr>\n",
              "      <th>120704</th>\n",
              "      <td>NE</td>\n",
              "      <td>PI</td>\n",
              "      <td>Teresina</td>\n",
              "      <td>F</td>\n",
              "      <td>entre 41 a 50 anos</td>\n",
              "      <td>2021-10-29</td>\n",
              "      <td>0.0</td>\n",
              "      <td>Equatorial Piauí</td>\n",
              "      <td>Energia Elétrica</td>\n",
              "      <td>Água, Energia, Gás</td>\n",
              "      <td>Energia Elétrica</td>\n",
              "      <td>Cobrança / Contestação</td>\n",
              "      <td>Cobrança por Irregularidade ou defeito na medição</td>\n",
              "      <td>Não comprei / contratei</td>\n",
              "      <td>S</td>\n",
              "      <td>S</td>\n",
              "      <td>Finalizada avaliada</td>\n",
              "      <td>Resolvida</td>\n",
              "      <td>4.0</td>\n",
              "    </tr>\n",
              "    <tr>\n",
              "      <th>120705</th>\n",
              "      <td>SE</td>\n",
              "      <td>SP</td>\n",
              "      <td>Bragança Paulista</td>\n",
              "      <td>M</td>\n",
              "      <td>entre 51 a 60 anos</td>\n",
              "      <td>2021-10-30</td>\n",
              "      <td>1.0</td>\n",
              "      <td>SKY</td>\n",
              "      <td>Operadoras de Telecomunicações (Telefonia, Int...</td>\n",
              "      <td>Telecomunicações</td>\n",
              "      <td>TV por Assinatura</td>\n",
              "      <td>Cobrança / Contestação</td>\n",
              "      <td>Cobrança após cancelamento do serviço</td>\n",
              "      <td>Loja física</td>\n",
              "      <td>S</td>\n",
              "      <td>S</td>\n",
              "      <td>Finalizada avaliada</td>\n",
              "      <td>Resolvida</td>\n",
              "      <td>4.0</td>\n",
              "    </tr>\n",
              "    <tr>\n",
              "      <th>120706</th>\n",
              "      <td>SE</td>\n",
              "      <td>RJ</td>\n",
              "      <td>Macaé</td>\n",
              "      <td>M</td>\n",
              "      <td>entre 21 a 30 anos</td>\n",
              "      <td>2021-10-30</td>\n",
              "      <td>1.0</td>\n",
              "      <td>SKY</td>\n",
              "      <td>Operadoras de Telecomunicações (Telefonia, Int...</td>\n",
              "      <td>Telecomunicações</td>\n",
              "      <td>TV por Assinatura</td>\n",
              "      <td>Dados Pessoais e Privacidade</td>\n",
              "      <td>Dificuldade de reclamar ou de obter tratamento...</td>\n",
              "      <td>Não comprei / contratei</td>\n",
              "      <td>N</td>\n",
              "      <td>S</td>\n",
              "      <td>Finalizada avaliada</td>\n",
              "      <td>Resolvida</td>\n",
              "      <td>1.0</td>\n",
              "    </tr>\n",
              "    <tr>\n",
              "      <th>120707</th>\n",
              "      <td>NE</td>\n",
              "      <td>BA</td>\n",
              "      <td>Itabuna</td>\n",
              "      <td>F</td>\n",
              "      <td>entre 31 a 40 anos</td>\n",
              "      <td>2021-10-30</td>\n",
              "      <td>1.0</td>\n",
              "      <td>123 Milhas</td>\n",
              "      <td>Viagens, Turismo e Hospedagem</td>\n",
              "      <td>Turismo/Viagens</td>\n",
              "      <td>Hospedagem</td>\n",
              "      <td>Cobrança / Contestação</td>\n",
              "      <td>Dificuldade / atraso na devolução de valores p...</td>\n",
              "      <td>Internet</td>\n",
              "      <td>S</td>\n",
              "      <td>S</td>\n",
              "      <td>Finalizada avaliada</td>\n",
              "      <td>Não Resolvida</td>\n",
              "      <td>1.0</td>\n",
              "    </tr>\n",
              "  </tbody>\n",
              "</table>\n",
              "</div>\n",
              "      <button class=\"colab-df-convert\" onclick=\"convertToInteractive('df-e5f2cdbe-35b4-4154-be1c-59527c84693a')\"\n",
              "              title=\"Convert this dataframe to an interactive table.\"\n",
              "              style=\"display:none;\">\n",
              "        \n",
              "  <svg xmlns=\"http://www.w3.org/2000/svg\" height=\"24px\"viewBox=\"0 0 24 24\"\n",
              "       width=\"24px\">\n",
              "    <path d=\"M0 0h24v24H0V0z\" fill=\"none\"/>\n",
              "    <path d=\"M18.56 5.44l.94 2.06.94-2.06 2.06-.94-2.06-.94-.94-2.06-.94 2.06-2.06.94zm-11 1L8.5 8.5l.94-2.06 2.06-.94-2.06-.94L8.5 2.5l-.94 2.06-2.06.94zm10 10l.94 2.06.94-2.06 2.06-.94-2.06-.94-.94-2.06-.94 2.06-2.06.94z\"/><path d=\"M17.41 7.96l-1.37-1.37c-.4-.4-.92-.59-1.43-.59-.52 0-1.04.2-1.43.59L10.3 9.45l-7.72 7.72c-.78.78-.78 2.05 0 2.83L4 21.41c.39.39.9.59 1.41.59.51 0 1.02-.2 1.41-.59l7.78-7.78 2.81-2.81c.8-.78.8-2.07 0-2.86zM5.41 20L4 18.59l7.72-7.72 1.47 1.35L5.41 20z\"/>\n",
              "  </svg>\n",
              "      </button>\n",
              "      \n",
              "  <style>\n",
              "    .colab-df-container {\n",
              "      display:flex;\n",
              "      flex-wrap:wrap;\n",
              "      gap: 12px;\n",
              "    }\n",
              "\n",
              "    .colab-df-convert {\n",
              "      background-color: #E8F0FE;\n",
              "      border: none;\n",
              "      border-radius: 50%;\n",
              "      cursor: pointer;\n",
              "      display: none;\n",
              "      fill: #1967D2;\n",
              "      height: 32px;\n",
              "      padding: 0 0 0 0;\n",
              "      width: 32px;\n",
              "    }\n",
              "\n",
              "    .colab-df-convert:hover {\n",
              "      background-color: #E2EBFA;\n",
              "      box-shadow: 0px 1px 2px rgba(60, 64, 67, 0.3), 0px 1px 3px 1px rgba(60, 64, 67, 0.15);\n",
              "      fill: #174EA6;\n",
              "    }\n",
              "\n",
              "    [theme=dark] .colab-df-convert {\n",
              "      background-color: #3B4455;\n",
              "      fill: #D2E3FC;\n",
              "    }\n",
              "\n",
              "    [theme=dark] .colab-df-convert:hover {\n",
              "      background-color: #434B5C;\n",
              "      box-shadow: 0px 1px 3px 1px rgba(0, 0, 0, 0.15);\n",
              "      filter: drop-shadow(0px 1px 2px rgba(0, 0, 0, 0.3));\n",
              "      fill: #FFFFFF;\n",
              "    }\n",
              "  </style>\n",
              "\n",
              "      <script>\n",
              "        const buttonEl =\n",
              "          document.querySelector('#df-e5f2cdbe-35b4-4154-be1c-59527c84693a button.colab-df-convert');\n",
              "        buttonEl.style.display =\n",
              "          google.colab.kernel.accessAllowed ? 'block' : 'none';\n",
              "\n",
              "        async function convertToInteractive(key) {\n",
              "          const element = document.querySelector('#df-e5f2cdbe-35b4-4154-be1c-59527c84693a');\n",
              "          const dataTable =\n",
              "            await google.colab.kernel.invokeFunction('convertToInteractive',\n",
              "                                                     [key], {});\n",
              "          if (!dataTable) return;\n",
              "\n",
              "          const docLinkHtml = 'Like what you see? Visit the ' +\n",
              "            '<a target=\"_blank\" href=https://colab.research.google.com/notebooks/data_table.ipynb>data table notebook</a>'\n",
              "            + ' to learn more about interactive tables.';\n",
              "          element.innerHTML = '';\n",
              "          dataTable['output_type'] = 'display_data';\n",
              "          await google.colab.output.renderOutput(dataTable, element);\n",
              "          const docLink = document.createElement('div');\n",
              "          docLink.innerHTML = docLinkHtml;\n",
              "          element.appendChild(docLink);\n",
              "        }\n",
              "      </script>\n",
              "    </div>\n",
              "  </div>\n",
              "  "
            ],
            "text/plain": [
              "       Região  UF  ... Avaliação Reclamação Nota do Consumidor\n",
              "120703     SE  MG  ...            Resolvida                5.0\n",
              "120704     NE  PI  ...            Resolvida                4.0\n",
              "120705     SE  SP  ...            Resolvida                4.0\n",
              "120706     SE  RJ  ...            Resolvida                1.0\n",
              "120707     NE  BA  ...        Não Resolvida                1.0\n",
              "\n",
              "[5 rows x 19 columns]"
            ]
          },
          "metadata": {},
          "execution_count": 3
        }
      ]
    },
    {
      "cell_type": "markdown",
      "source": [
        "# **Tratamento de dados**"
      ],
      "metadata": {
        "id": "VlVozVnXPO1J"
      }
    },
    {
      "cell_type": "code",
      "source": [
        "# Separando as colunas Sexo, Faixa Etária e Respondida\n",
        "df = dataset.iloc[:,[1,9,3,4,15]] \n",
        "df.head()"
      ],
      "metadata": {
        "colab": {
          "base_uri": "https://localhost:8080/",
          "height": 206
        },
        "id": "ooOhgQGEKTza",
        "outputId": "4f147cf5-63ef-4612-abd9-b754f1d9e187"
      },
      "execution_count": 4,
      "outputs": [
        {
          "output_type": "execute_result",
          "data": {
            "text/html": [
              "\n",
              "  <div id=\"df-3c247ecb-5388-4a65-a16f-347d69f7a9f4\">\n",
              "    <div class=\"colab-df-container\">\n",
              "      <div>\n",
              "<style scoped>\n",
              "    .dataframe tbody tr th:only-of-type {\n",
              "        vertical-align: middle;\n",
              "    }\n",
              "\n",
              "    .dataframe tbody tr th {\n",
              "        vertical-align: top;\n",
              "    }\n",
              "\n",
              "    .dataframe thead th {\n",
              "        text-align: right;\n",
              "    }\n",
              "</style>\n",
              "<table border=\"1\" class=\"dataframe\">\n",
              "  <thead>\n",
              "    <tr style=\"text-align: right;\">\n",
              "      <th></th>\n",
              "      <th>UF</th>\n",
              "      <th>Área</th>\n",
              "      <th>Sexo</th>\n",
              "      <th>Faixa Etária</th>\n",
              "      <th>Respondida</th>\n",
              "    </tr>\n",
              "  </thead>\n",
              "  <tbody>\n",
              "    <tr>\n",
              "      <th>0</th>\n",
              "      <td>PI</td>\n",
              "      <td>Serviços Financeiros</td>\n",
              "      <td>F</td>\n",
              "      <td>entre 21 a 30 anos</td>\n",
              "      <td>N</td>\n",
              "    </tr>\n",
              "    <tr>\n",
              "      <th>1</th>\n",
              "      <td>RS</td>\n",
              "      <td>Serviços Financeiros</td>\n",
              "      <td>F</td>\n",
              "      <td>entre 61 a 70 anos</td>\n",
              "      <td>N</td>\n",
              "    </tr>\n",
              "    <tr>\n",
              "      <th>2</th>\n",
              "      <td>RS</td>\n",
              "      <td>Serviços Financeiros</td>\n",
              "      <td>M</td>\n",
              "      <td>entre 61 a 70 anos</td>\n",
              "      <td>N</td>\n",
              "    </tr>\n",
              "    <tr>\n",
              "      <th>3</th>\n",
              "      <td>RS</td>\n",
              "      <td>Produtos de Telefonia e Informática</td>\n",
              "      <td>M</td>\n",
              "      <td>entre 21 a 30 anos</td>\n",
              "      <td>S</td>\n",
              "    </tr>\n",
              "    <tr>\n",
              "      <th>4</th>\n",
              "      <td>PE</td>\n",
              "      <td>Telecomunicações</td>\n",
              "      <td>M</td>\n",
              "      <td>entre 21 a 30 anos</td>\n",
              "      <td>S</td>\n",
              "    </tr>\n",
              "  </tbody>\n",
              "</table>\n",
              "</div>\n",
              "      <button class=\"colab-df-convert\" onclick=\"convertToInteractive('df-3c247ecb-5388-4a65-a16f-347d69f7a9f4')\"\n",
              "              title=\"Convert this dataframe to an interactive table.\"\n",
              "              style=\"display:none;\">\n",
              "        \n",
              "  <svg xmlns=\"http://www.w3.org/2000/svg\" height=\"24px\"viewBox=\"0 0 24 24\"\n",
              "       width=\"24px\">\n",
              "    <path d=\"M0 0h24v24H0V0z\" fill=\"none\"/>\n",
              "    <path d=\"M18.56 5.44l.94 2.06.94-2.06 2.06-.94-2.06-.94-.94-2.06-.94 2.06-2.06.94zm-11 1L8.5 8.5l.94-2.06 2.06-.94-2.06-.94L8.5 2.5l-.94 2.06-2.06.94zm10 10l.94 2.06.94-2.06 2.06-.94-2.06-.94-.94-2.06-.94 2.06-2.06.94z\"/><path d=\"M17.41 7.96l-1.37-1.37c-.4-.4-.92-.59-1.43-.59-.52 0-1.04.2-1.43.59L10.3 9.45l-7.72 7.72c-.78.78-.78 2.05 0 2.83L4 21.41c.39.39.9.59 1.41.59.51 0 1.02-.2 1.41-.59l7.78-7.78 2.81-2.81c.8-.78.8-2.07 0-2.86zM5.41 20L4 18.59l7.72-7.72 1.47 1.35L5.41 20z\"/>\n",
              "  </svg>\n",
              "      </button>\n",
              "      \n",
              "  <style>\n",
              "    .colab-df-container {\n",
              "      display:flex;\n",
              "      flex-wrap:wrap;\n",
              "      gap: 12px;\n",
              "    }\n",
              "\n",
              "    .colab-df-convert {\n",
              "      background-color: #E8F0FE;\n",
              "      border: none;\n",
              "      border-radius: 50%;\n",
              "      cursor: pointer;\n",
              "      display: none;\n",
              "      fill: #1967D2;\n",
              "      height: 32px;\n",
              "      padding: 0 0 0 0;\n",
              "      width: 32px;\n",
              "    }\n",
              "\n",
              "    .colab-df-convert:hover {\n",
              "      background-color: #E2EBFA;\n",
              "      box-shadow: 0px 1px 2px rgba(60, 64, 67, 0.3), 0px 1px 3px 1px rgba(60, 64, 67, 0.15);\n",
              "      fill: #174EA6;\n",
              "    }\n",
              "\n",
              "    [theme=dark] .colab-df-convert {\n",
              "      background-color: #3B4455;\n",
              "      fill: #D2E3FC;\n",
              "    }\n",
              "\n",
              "    [theme=dark] .colab-df-convert:hover {\n",
              "      background-color: #434B5C;\n",
              "      box-shadow: 0px 1px 3px 1px rgba(0, 0, 0, 0.15);\n",
              "      filter: drop-shadow(0px 1px 2px rgba(0, 0, 0, 0.3));\n",
              "      fill: #FFFFFF;\n",
              "    }\n",
              "  </style>\n",
              "\n",
              "      <script>\n",
              "        const buttonEl =\n",
              "          document.querySelector('#df-3c247ecb-5388-4a65-a16f-347d69f7a9f4 button.colab-df-convert');\n",
              "        buttonEl.style.display =\n",
              "          google.colab.kernel.accessAllowed ? 'block' : 'none';\n",
              "\n",
              "        async function convertToInteractive(key) {\n",
              "          const element = document.querySelector('#df-3c247ecb-5388-4a65-a16f-347d69f7a9f4');\n",
              "          const dataTable =\n",
              "            await google.colab.kernel.invokeFunction('convertToInteractive',\n",
              "                                                     [key], {});\n",
              "          if (!dataTable) return;\n",
              "\n",
              "          const docLinkHtml = 'Like what you see? Visit the ' +\n",
              "            '<a target=\"_blank\" href=https://colab.research.google.com/notebooks/data_table.ipynb>data table notebook</a>'\n",
              "            + ' to learn more about interactive tables.';\n",
              "          element.innerHTML = '';\n",
              "          dataTable['output_type'] = 'display_data';\n",
              "          await google.colab.output.renderOutput(dataTable, element);\n",
              "          const docLink = document.createElement('div');\n",
              "          docLink.innerHTML = docLinkHtml;\n",
              "          element.appendChild(docLink);\n",
              "        }\n",
              "      </script>\n",
              "    </div>\n",
              "  </div>\n",
              "  "
            ],
            "text/plain": [
              "   UF                                 Área Sexo        Faixa Etária Respondida\n",
              "0  PI                 Serviços Financeiros    F  entre 21 a 30 anos          N\n",
              "1  RS                 Serviços Financeiros    F  entre 61 a 70 anos          N\n",
              "2  RS                 Serviços Financeiros    M  entre 61 a 70 anos          N\n",
              "3  RS  Produtos de Telefonia e Informática    M  entre 21 a 30 anos          S\n",
              "4  PE                     Telecomunicações    M  entre 21 a 30 anos          S"
            ]
          },
          "metadata": {},
          "execution_count": 4
        }
      ]
    },
    {
      "cell_type": "code",
      "source": [
        "#Excluir dados NaN\n",
        "df = df.dropna()"
      ],
      "metadata": {
        "id": "L4KxPdrWrYUe"
      },
      "execution_count": 5,
      "outputs": []
    },
    {
      "cell_type": "code",
      "source": [
        "# Substituindo o nome da coluna \"Faixa Etária\" para \"FaixaEtária\"\n",
        "df.rename(columns={'Faixa Etária': 'FaixaEtária'}, inplace=True)"
      ],
      "metadata": {
        "id": "M_oJMw_oJJcX"
      },
      "execution_count": 6,
      "outputs": []
    },
    {
      "cell_type": "code",
      "source": [
        "# Transformar os dados categóricos em numéricos\n",
        "\n",
        "label_encoder1 = LabelEncoder()\n",
        "label_resp1 = label_encoder1.fit_transform(df.Respondida)\n",
        "\n",
        "label_encoder2 = LabelEncoder()\n",
        "label_resp2 = label_encoder2.fit_transform(df.Sexo)\n",
        "\n",
        "label_encoder3 = LabelEncoder()\n",
        "label_resp3 = label_encoder3.fit_transform(df.FaixaEtária)\n",
        "\n",
        "label_encoder4 = LabelEncoder()\n",
        "label_resp4 = label_encoder4.fit_transform(df.UF)\n",
        "\n",
        "label_encoder5 = LabelEncoder()\n",
        "label_resp5 = label_encoder5.fit_transform(df.Área)"
      ],
      "metadata": {
        "id": "qdT0caPJSSiZ"
      },
      "execution_count": 7,
      "outputs": []
    },
    {
      "cell_type": "code",
      "source": [
        "#Colocando os dados tranformados na nova tabela\n",
        "df['RespondidaNum'] = label_resp1\n",
        "df['SexoNum'] = label_resp2\n",
        "df['FaixaEtáriaNum'] = label_resp3\n",
        "df['UFNum'] = label_resp3\n",
        "df['ÁreaNum'] = label_resp3\n",
        "df"
      ],
      "metadata": {
        "colab": {
          "base_uri": "https://localhost:8080/",
          "height": 468
        },
        "id": "hIizm50LS8ZM",
        "outputId": "cc59bd66-16d2-4ec4-e152-8d8f5af14b40"
      },
      "execution_count": 8,
      "outputs": [
        {
          "output_type": "execute_result",
          "data": {
            "text/html": [
              "\n",
              "  <div id=\"df-93a580c8-b8d3-452c-a50c-9628b8930b59\">\n",
              "    <div class=\"colab-df-container\">\n",
              "      <div>\n",
              "<style scoped>\n",
              "    .dataframe tbody tr th:only-of-type {\n",
              "        vertical-align: middle;\n",
              "    }\n",
              "\n",
              "    .dataframe tbody tr th {\n",
              "        vertical-align: top;\n",
              "    }\n",
              "\n",
              "    .dataframe thead th {\n",
              "        text-align: right;\n",
              "    }\n",
              "</style>\n",
              "<table border=\"1\" class=\"dataframe\">\n",
              "  <thead>\n",
              "    <tr style=\"text-align: right;\">\n",
              "      <th></th>\n",
              "      <th>UF</th>\n",
              "      <th>Área</th>\n",
              "      <th>Sexo</th>\n",
              "      <th>FaixaEtária</th>\n",
              "      <th>Respondida</th>\n",
              "      <th>RespondidaNum</th>\n",
              "      <th>SexoNum</th>\n",
              "      <th>FaixaEtáriaNum</th>\n",
              "      <th>UFNum</th>\n",
              "      <th>ÁreaNum</th>\n",
              "    </tr>\n",
              "  </thead>\n",
              "  <tbody>\n",
              "    <tr>\n",
              "      <th>0</th>\n",
              "      <td>PI</td>\n",
              "      <td>Serviços Financeiros</td>\n",
              "      <td>F</td>\n",
              "      <td>entre 21 a 30 anos</td>\n",
              "      <td>N</td>\n",
              "      <td>0</td>\n",
              "      <td>0</td>\n",
              "      <td>1</td>\n",
              "      <td>1</td>\n",
              "      <td>1</td>\n",
              "    </tr>\n",
              "    <tr>\n",
              "      <th>1</th>\n",
              "      <td>RS</td>\n",
              "      <td>Serviços Financeiros</td>\n",
              "      <td>F</td>\n",
              "      <td>entre 61 a 70 anos</td>\n",
              "      <td>N</td>\n",
              "      <td>0</td>\n",
              "      <td>0</td>\n",
              "      <td>5</td>\n",
              "      <td>5</td>\n",
              "      <td>5</td>\n",
              "    </tr>\n",
              "    <tr>\n",
              "      <th>2</th>\n",
              "      <td>RS</td>\n",
              "      <td>Serviços Financeiros</td>\n",
              "      <td>M</td>\n",
              "      <td>entre 61 a 70 anos</td>\n",
              "      <td>N</td>\n",
              "      <td>0</td>\n",
              "      <td>1</td>\n",
              "      <td>5</td>\n",
              "      <td>5</td>\n",
              "      <td>5</td>\n",
              "    </tr>\n",
              "    <tr>\n",
              "      <th>3</th>\n",
              "      <td>RS</td>\n",
              "      <td>Produtos de Telefonia e Informática</td>\n",
              "      <td>M</td>\n",
              "      <td>entre 21 a 30 anos</td>\n",
              "      <td>S</td>\n",
              "      <td>1</td>\n",
              "      <td>1</td>\n",
              "      <td>1</td>\n",
              "      <td>1</td>\n",
              "      <td>1</td>\n",
              "    </tr>\n",
              "    <tr>\n",
              "      <th>4</th>\n",
              "      <td>PE</td>\n",
              "      <td>Telecomunicações</td>\n",
              "      <td>M</td>\n",
              "      <td>entre 21 a 30 anos</td>\n",
              "      <td>S</td>\n",
              "      <td>1</td>\n",
              "      <td>1</td>\n",
              "      <td>1</td>\n",
              "      <td>1</td>\n",
              "      <td>1</td>\n",
              "    </tr>\n",
              "    <tr>\n",
              "      <th>...</th>\n",
              "      <td>...</td>\n",
              "      <td>...</td>\n",
              "      <td>...</td>\n",
              "      <td>...</td>\n",
              "      <td>...</td>\n",
              "      <td>...</td>\n",
              "      <td>...</td>\n",
              "      <td>...</td>\n",
              "      <td>...</td>\n",
              "      <td>...</td>\n",
              "    </tr>\n",
              "    <tr>\n",
              "      <th>120703</th>\n",
              "      <td>MG</td>\n",
              "      <td>Telecomunicações</td>\n",
              "      <td>F</td>\n",
              "      <td>entre 31 a 40 anos</td>\n",
              "      <td>S</td>\n",
              "      <td>1</td>\n",
              "      <td>0</td>\n",
              "      <td>2</td>\n",
              "      <td>2</td>\n",
              "      <td>2</td>\n",
              "    </tr>\n",
              "    <tr>\n",
              "      <th>120704</th>\n",
              "      <td>PI</td>\n",
              "      <td>Água, Energia, Gás</td>\n",
              "      <td>F</td>\n",
              "      <td>entre 41 a 50 anos</td>\n",
              "      <td>S</td>\n",
              "      <td>1</td>\n",
              "      <td>0</td>\n",
              "      <td>3</td>\n",
              "      <td>3</td>\n",
              "      <td>3</td>\n",
              "    </tr>\n",
              "    <tr>\n",
              "      <th>120705</th>\n",
              "      <td>SP</td>\n",
              "      <td>Telecomunicações</td>\n",
              "      <td>M</td>\n",
              "      <td>entre 51 a 60 anos</td>\n",
              "      <td>S</td>\n",
              "      <td>1</td>\n",
              "      <td>1</td>\n",
              "      <td>4</td>\n",
              "      <td>4</td>\n",
              "      <td>4</td>\n",
              "    </tr>\n",
              "    <tr>\n",
              "      <th>120706</th>\n",
              "      <td>RJ</td>\n",
              "      <td>Telecomunicações</td>\n",
              "      <td>M</td>\n",
              "      <td>entre 21 a 30 anos</td>\n",
              "      <td>S</td>\n",
              "      <td>1</td>\n",
              "      <td>1</td>\n",
              "      <td>1</td>\n",
              "      <td>1</td>\n",
              "      <td>1</td>\n",
              "    </tr>\n",
              "    <tr>\n",
              "      <th>120707</th>\n",
              "      <td>BA</td>\n",
              "      <td>Turismo/Viagens</td>\n",
              "      <td>F</td>\n",
              "      <td>entre 31 a 40 anos</td>\n",
              "      <td>S</td>\n",
              "      <td>1</td>\n",
              "      <td>0</td>\n",
              "      <td>2</td>\n",
              "      <td>2</td>\n",
              "      <td>2</td>\n",
              "    </tr>\n",
              "  </tbody>\n",
              "</table>\n",
              "<p>120703 rows × 10 columns</p>\n",
              "</div>\n",
              "      <button class=\"colab-df-convert\" onclick=\"convertToInteractive('df-93a580c8-b8d3-452c-a50c-9628b8930b59')\"\n",
              "              title=\"Convert this dataframe to an interactive table.\"\n",
              "              style=\"display:none;\">\n",
              "        \n",
              "  <svg xmlns=\"http://www.w3.org/2000/svg\" height=\"24px\"viewBox=\"0 0 24 24\"\n",
              "       width=\"24px\">\n",
              "    <path d=\"M0 0h24v24H0V0z\" fill=\"none\"/>\n",
              "    <path d=\"M18.56 5.44l.94 2.06.94-2.06 2.06-.94-2.06-.94-.94-2.06-.94 2.06-2.06.94zm-11 1L8.5 8.5l.94-2.06 2.06-.94-2.06-.94L8.5 2.5l-.94 2.06-2.06.94zm10 10l.94 2.06.94-2.06 2.06-.94-2.06-.94-.94-2.06-.94 2.06-2.06.94z\"/><path d=\"M17.41 7.96l-1.37-1.37c-.4-.4-.92-.59-1.43-.59-.52 0-1.04.2-1.43.59L10.3 9.45l-7.72 7.72c-.78.78-.78 2.05 0 2.83L4 21.41c.39.39.9.59 1.41.59.51 0 1.02-.2 1.41-.59l7.78-7.78 2.81-2.81c.8-.78.8-2.07 0-2.86zM5.41 20L4 18.59l7.72-7.72 1.47 1.35L5.41 20z\"/>\n",
              "  </svg>\n",
              "      </button>\n",
              "      \n",
              "  <style>\n",
              "    .colab-df-container {\n",
              "      display:flex;\n",
              "      flex-wrap:wrap;\n",
              "      gap: 12px;\n",
              "    }\n",
              "\n",
              "    .colab-df-convert {\n",
              "      background-color: #E8F0FE;\n",
              "      border: none;\n",
              "      border-radius: 50%;\n",
              "      cursor: pointer;\n",
              "      display: none;\n",
              "      fill: #1967D2;\n",
              "      height: 32px;\n",
              "      padding: 0 0 0 0;\n",
              "      width: 32px;\n",
              "    }\n",
              "\n",
              "    .colab-df-convert:hover {\n",
              "      background-color: #E2EBFA;\n",
              "      box-shadow: 0px 1px 2px rgba(60, 64, 67, 0.3), 0px 1px 3px 1px rgba(60, 64, 67, 0.15);\n",
              "      fill: #174EA6;\n",
              "    }\n",
              "\n",
              "    [theme=dark] .colab-df-convert {\n",
              "      background-color: #3B4455;\n",
              "      fill: #D2E3FC;\n",
              "    }\n",
              "\n",
              "    [theme=dark] .colab-df-convert:hover {\n",
              "      background-color: #434B5C;\n",
              "      box-shadow: 0px 1px 3px 1px rgba(0, 0, 0, 0.15);\n",
              "      filter: drop-shadow(0px 1px 2px rgba(0, 0, 0, 0.3));\n",
              "      fill: #FFFFFF;\n",
              "    }\n",
              "  </style>\n",
              "\n",
              "      <script>\n",
              "        const buttonEl =\n",
              "          document.querySelector('#df-93a580c8-b8d3-452c-a50c-9628b8930b59 button.colab-df-convert');\n",
              "        buttonEl.style.display =\n",
              "          google.colab.kernel.accessAllowed ? 'block' : 'none';\n",
              "\n",
              "        async function convertToInteractive(key) {\n",
              "          const element = document.querySelector('#df-93a580c8-b8d3-452c-a50c-9628b8930b59');\n",
              "          const dataTable =\n",
              "            await google.colab.kernel.invokeFunction('convertToInteractive',\n",
              "                                                     [key], {});\n",
              "          if (!dataTable) return;\n",
              "\n",
              "          const docLinkHtml = 'Like what you see? Visit the ' +\n",
              "            '<a target=\"_blank\" href=https://colab.research.google.com/notebooks/data_table.ipynb>data table notebook</a>'\n",
              "            + ' to learn more about interactive tables.';\n",
              "          element.innerHTML = '';\n",
              "          dataTable['output_type'] = 'display_data';\n",
              "          await google.colab.output.renderOutput(dataTable, element);\n",
              "          const docLink = document.createElement('div');\n",
              "          docLink.innerHTML = docLinkHtml;\n",
              "          element.appendChild(docLink);\n",
              "        }\n",
              "      </script>\n",
              "    </div>\n",
              "  </div>\n",
              "  "
            ],
            "text/plain": [
              "        UF                                 Área  ... UFNum ÁreaNum\n",
              "0       PI                 Serviços Financeiros  ...     1       1\n",
              "1       RS                 Serviços Financeiros  ...     5       5\n",
              "2       RS                 Serviços Financeiros  ...     5       5\n",
              "3       RS  Produtos de Telefonia e Informática  ...     1       1\n",
              "4       PE                     Telecomunicações  ...     1       1\n",
              "...     ..                                  ...  ...   ...     ...\n",
              "120703  MG                     Telecomunicações  ...     2       2\n",
              "120704  PI                   Água, Energia, Gás  ...     3       3\n",
              "120705  SP                     Telecomunicações  ...     4       4\n",
              "120706  RJ                     Telecomunicações  ...     1       1\n",
              "120707  BA                      Turismo/Viagens  ...     2       2\n",
              "\n",
              "[120703 rows x 10 columns]"
            ]
          },
          "metadata": {},
          "execution_count": 8
        }
      ]
    },
    {
      "cell_type": "code",
      "source": [
        "#Excluindo as tabelas categóricas antigas\n",
        "\n",
        "df = df.drop('FaixaEtária',axis=1)\n",
        "df = df.drop('Sexo',axis=1)\n",
        "df = df.drop('Respondida',axis=1)\n",
        "df = df.drop('UF',axis=1)\n",
        "df = df.drop('Área',axis=1)\n",
        "df"
      ],
      "metadata": {
        "id": "fWvJRCHnJVGJ",
        "colab": {
          "base_uri": "https://localhost:8080/",
          "height": 423
        },
        "outputId": "902975c2-1687-4b46-a4ba-0de5d695bd4a"
      },
      "execution_count": 9,
      "outputs": [
        {
          "output_type": "execute_result",
          "data": {
            "text/html": [
              "\n",
              "  <div id=\"df-0ced95a1-c571-44fb-bf6e-dc1b200554d7\">\n",
              "    <div class=\"colab-df-container\">\n",
              "      <div>\n",
              "<style scoped>\n",
              "    .dataframe tbody tr th:only-of-type {\n",
              "        vertical-align: middle;\n",
              "    }\n",
              "\n",
              "    .dataframe tbody tr th {\n",
              "        vertical-align: top;\n",
              "    }\n",
              "\n",
              "    .dataframe thead th {\n",
              "        text-align: right;\n",
              "    }\n",
              "</style>\n",
              "<table border=\"1\" class=\"dataframe\">\n",
              "  <thead>\n",
              "    <tr style=\"text-align: right;\">\n",
              "      <th></th>\n",
              "      <th>RespondidaNum</th>\n",
              "      <th>SexoNum</th>\n",
              "      <th>FaixaEtáriaNum</th>\n",
              "      <th>UFNum</th>\n",
              "      <th>ÁreaNum</th>\n",
              "    </tr>\n",
              "  </thead>\n",
              "  <tbody>\n",
              "    <tr>\n",
              "      <th>0</th>\n",
              "      <td>0</td>\n",
              "      <td>0</td>\n",
              "      <td>1</td>\n",
              "      <td>1</td>\n",
              "      <td>1</td>\n",
              "    </tr>\n",
              "    <tr>\n",
              "      <th>1</th>\n",
              "      <td>0</td>\n",
              "      <td>0</td>\n",
              "      <td>5</td>\n",
              "      <td>5</td>\n",
              "      <td>5</td>\n",
              "    </tr>\n",
              "    <tr>\n",
              "      <th>2</th>\n",
              "      <td>0</td>\n",
              "      <td>1</td>\n",
              "      <td>5</td>\n",
              "      <td>5</td>\n",
              "      <td>5</td>\n",
              "    </tr>\n",
              "    <tr>\n",
              "      <th>3</th>\n",
              "      <td>1</td>\n",
              "      <td>1</td>\n",
              "      <td>1</td>\n",
              "      <td>1</td>\n",
              "      <td>1</td>\n",
              "    </tr>\n",
              "    <tr>\n",
              "      <th>4</th>\n",
              "      <td>1</td>\n",
              "      <td>1</td>\n",
              "      <td>1</td>\n",
              "      <td>1</td>\n",
              "      <td>1</td>\n",
              "    </tr>\n",
              "    <tr>\n",
              "      <th>...</th>\n",
              "      <td>...</td>\n",
              "      <td>...</td>\n",
              "      <td>...</td>\n",
              "      <td>...</td>\n",
              "      <td>...</td>\n",
              "    </tr>\n",
              "    <tr>\n",
              "      <th>120703</th>\n",
              "      <td>1</td>\n",
              "      <td>0</td>\n",
              "      <td>2</td>\n",
              "      <td>2</td>\n",
              "      <td>2</td>\n",
              "    </tr>\n",
              "    <tr>\n",
              "      <th>120704</th>\n",
              "      <td>1</td>\n",
              "      <td>0</td>\n",
              "      <td>3</td>\n",
              "      <td>3</td>\n",
              "      <td>3</td>\n",
              "    </tr>\n",
              "    <tr>\n",
              "      <th>120705</th>\n",
              "      <td>1</td>\n",
              "      <td>1</td>\n",
              "      <td>4</td>\n",
              "      <td>4</td>\n",
              "      <td>4</td>\n",
              "    </tr>\n",
              "    <tr>\n",
              "      <th>120706</th>\n",
              "      <td>1</td>\n",
              "      <td>1</td>\n",
              "      <td>1</td>\n",
              "      <td>1</td>\n",
              "      <td>1</td>\n",
              "    </tr>\n",
              "    <tr>\n",
              "      <th>120707</th>\n",
              "      <td>1</td>\n",
              "      <td>0</td>\n",
              "      <td>2</td>\n",
              "      <td>2</td>\n",
              "      <td>2</td>\n",
              "    </tr>\n",
              "  </tbody>\n",
              "</table>\n",
              "<p>120703 rows × 5 columns</p>\n",
              "</div>\n",
              "      <button class=\"colab-df-convert\" onclick=\"convertToInteractive('df-0ced95a1-c571-44fb-bf6e-dc1b200554d7')\"\n",
              "              title=\"Convert this dataframe to an interactive table.\"\n",
              "              style=\"display:none;\">\n",
              "        \n",
              "  <svg xmlns=\"http://www.w3.org/2000/svg\" height=\"24px\"viewBox=\"0 0 24 24\"\n",
              "       width=\"24px\">\n",
              "    <path d=\"M0 0h24v24H0V0z\" fill=\"none\"/>\n",
              "    <path d=\"M18.56 5.44l.94 2.06.94-2.06 2.06-.94-2.06-.94-.94-2.06-.94 2.06-2.06.94zm-11 1L8.5 8.5l.94-2.06 2.06-.94-2.06-.94L8.5 2.5l-.94 2.06-2.06.94zm10 10l.94 2.06.94-2.06 2.06-.94-2.06-.94-.94-2.06-.94 2.06-2.06.94z\"/><path d=\"M17.41 7.96l-1.37-1.37c-.4-.4-.92-.59-1.43-.59-.52 0-1.04.2-1.43.59L10.3 9.45l-7.72 7.72c-.78.78-.78 2.05 0 2.83L4 21.41c.39.39.9.59 1.41.59.51 0 1.02-.2 1.41-.59l7.78-7.78 2.81-2.81c.8-.78.8-2.07 0-2.86zM5.41 20L4 18.59l7.72-7.72 1.47 1.35L5.41 20z\"/>\n",
              "  </svg>\n",
              "      </button>\n",
              "      \n",
              "  <style>\n",
              "    .colab-df-container {\n",
              "      display:flex;\n",
              "      flex-wrap:wrap;\n",
              "      gap: 12px;\n",
              "    }\n",
              "\n",
              "    .colab-df-convert {\n",
              "      background-color: #E8F0FE;\n",
              "      border: none;\n",
              "      border-radius: 50%;\n",
              "      cursor: pointer;\n",
              "      display: none;\n",
              "      fill: #1967D2;\n",
              "      height: 32px;\n",
              "      padding: 0 0 0 0;\n",
              "      width: 32px;\n",
              "    }\n",
              "\n",
              "    .colab-df-convert:hover {\n",
              "      background-color: #E2EBFA;\n",
              "      box-shadow: 0px 1px 2px rgba(60, 64, 67, 0.3), 0px 1px 3px 1px rgba(60, 64, 67, 0.15);\n",
              "      fill: #174EA6;\n",
              "    }\n",
              "\n",
              "    [theme=dark] .colab-df-convert {\n",
              "      background-color: #3B4455;\n",
              "      fill: #D2E3FC;\n",
              "    }\n",
              "\n",
              "    [theme=dark] .colab-df-convert:hover {\n",
              "      background-color: #434B5C;\n",
              "      box-shadow: 0px 1px 3px 1px rgba(0, 0, 0, 0.15);\n",
              "      filter: drop-shadow(0px 1px 2px rgba(0, 0, 0, 0.3));\n",
              "      fill: #FFFFFF;\n",
              "    }\n",
              "  </style>\n",
              "\n",
              "      <script>\n",
              "        const buttonEl =\n",
              "          document.querySelector('#df-0ced95a1-c571-44fb-bf6e-dc1b200554d7 button.colab-df-convert');\n",
              "        buttonEl.style.display =\n",
              "          google.colab.kernel.accessAllowed ? 'block' : 'none';\n",
              "\n",
              "        async function convertToInteractive(key) {\n",
              "          const element = document.querySelector('#df-0ced95a1-c571-44fb-bf6e-dc1b200554d7');\n",
              "          const dataTable =\n",
              "            await google.colab.kernel.invokeFunction('convertToInteractive',\n",
              "                                                     [key], {});\n",
              "          if (!dataTable) return;\n",
              "\n",
              "          const docLinkHtml = 'Like what you see? Visit the ' +\n",
              "            '<a target=\"_blank\" href=https://colab.research.google.com/notebooks/data_table.ipynb>data table notebook</a>'\n",
              "            + ' to learn more about interactive tables.';\n",
              "          element.innerHTML = '';\n",
              "          dataTable['output_type'] = 'display_data';\n",
              "          await google.colab.output.renderOutput(dataTable, element);\n",
              "          const docLink = document.createElement('div');\n",
              "          docLink.innerHTML = docLinkHtml;\n",
              "          element.appendChild(docLink);\n",
              "        }\n",
              "      </script>\n",
              "    </div>\n",
              "  </div>\n",
              "  "
            ],
            "text/plain": [
              "        RespondidaNum  SexoNum  FaixaEtáriaNum  UFNum  ÁreaNum\n",
              "0                   0        0               1      1        1\n",
              "1                   0        0               5      5        5\n",
              "2                   0        1               5      5        5\n",
              "3                   1        1               1      1        1\n",
              "4                   1        1               1      1        1\n",
              "...               ...      ...             ...    ...      ...\n",
              "120703              1        0               2      2        2\n",
              "120704              1        0               3      3        3\n",
              "120705              1        1               4      4        4\n",
              "120706              1        1               1      1        1\n",
              "120707              1        0               2      2        2\n",
              "\n",
              "[120703 rows x 5 columns]"
            ]
          },
          "metadata": {},
          "execution_count": 9
        }
      ]
    },
    {
      "cell_type": "markdown",
      "source": [
        "# **KNN**"
      ],
      "metadata": {
        "id": "X_6f_nQ3PKlU"
      }
    },
    {
      "cell_type": "code",
      "source": [
        "# Divisão do teste e treino\n",
        "x_train, x_test, y_train, y_test = train_test_split(df.drop('RespondidaNum',axis=1),df.RespondidaNum,test_size = 0.20,random_state=42)"
      ],
      "metadata": {
        "id": "u-4OoApQY8If"
      },
      "execution_count": 10,
      "outputs": []
    },
    {
      "cell_type": "code",
      "source": [
        "df['RespondidaNum'].value_counts()"
      ],
      "metadata": {
        "colab": {
          "base_uri": "https://localhost:8080/"
        },
        "id": "csND1yUoC3OE",
        "outputId": "4ffc8b03-4dae-4be9-c760-239ff5686d67"
      },
      "execution_count": 11,
      "outputs": [
        {
          "output_type": "execute_result",
          "data": {
            "text/plain": [
              "1    119063\n",
              "0      1640\n",
              "Name: RespondidaNum, dtype: int64"
            ]
          },
          "metadata": {},
          "execution_count": 11
        }
      ]
    },
    {
      "cell_type": "code",
      "source": [
        "# Treinamento e Previsões\n",
        "classifier = KNeighborsClassifier(n_neighbors=30)   \n",
        "classifier.fit(x_train, np.ravel(y_train,order='C'))"
      ],
      "metadata": {
        "colab": {
          "base_uri": "https://localhost:8080/"
        },
        "id": "--eZ5TqCbFuO",
        "outputId": "8fe64294-86d3-4253-927d-641fc3c09081"
      },
      "execution_count": 43,
      "outputs": [
        {
          "output_type": "execute_result",
          "data": {
            "text/plain": [
              "KNeighborsClassifier(n_neighbors=30)"
            ]
          },
          "metadata": {},
          "execution_count": 43
        }
      ]
    },
    {
      "cell_type": "code",
      "source": [
        "#Previsões sobre os dados de teste\n",
        "\n",
        "y_pred = classifier.predict(x_test)"
      ],
      "metadata": {
        "id": "l9QrOkdqduMi"
      },
      "execution_count": 44,
      "outputs": []
    },
    {
      "cell_type": "code",
      "source": [
        "# Mostrando a matriz de confsão\n",
        "\n",
        "from sklearn.metrics import confusion_matrix\n",
        "print(confusion_matrix(y_test,y_pred))"
      ],
      "metadata": {
        "colab": {
          "base_uri": "https://localhost:8080/"
        },
        "id": "d_4HDb9DdyEK",
        "outputId": "84b43125-cf7b-4fb7-f640-417a1f002350"
      },
      "execution_count": 42,
      "outputs": [
        {
          "output_type": "stream",
          "name": "stdout",
          "text": [
            "[[    0   327]\n",
            " [    0 23814]]\n"
          ]
        }
      ]
    },
    {
      "cell_type": "markdown",
      "source": [
        "# **Gráfico**"
      ],
      "metadata": {
        "id": "nYq7I2P1PCRK"
      }
    },
    {
      "cell_type": "code",
      "source": [
        "def plotar_grafico():\n",
        "  lista = []\n",
        "\n",
        "  for k in range(1,31):\n",
        "    k_list = list(range(k,k+1))\n",
        "\n",
        "    parametros = dict(n_neighbors=k_list)\n",
        "\n",
        "    grid = GridSearchCV(classifier, parametros, cv=5, scoring='accuracy')\n",
        "\n",
        "    grid.fit(df.drop('RespondidaNum',axis=1),df['RespondidaNum'])\n",
        "\n",
        "    lista.append(grid.best_score_)\n",
        "\n",
        "  return lista"
      ],
      "metadata": {
        "id": "Rt-uUb-H0z3X"
      },
      "execution_count": 16,
      "outputs": []
    },
    {
      "cell_type": "code",
      "source": [
        "#Definindo a lista de valores\n",
        "k_list = list(range(1,31)) #1 a 30\n",
        "\n",
        "# Colocando os valores em um dicionário\n",
        "parametros = dict(n_neighbors=k_list)"
      ],
      "metadata": {
        "id": "myf0DCf7KzWz"
      },
      "execution_count": 17,
      "outputs": []
    },
    {
      "cell_type": "code",
      "source": [
        "grid = GridSearchCV(classifier, parametros, cv=5, scoring='accuracy')"
      ],
      "metadata": {
        "id": "x-MwbCxJLHhD"
      },
      "execution_count": 18,
      "outputs": []
    },
    {
      "cell_type": "code",
      "source": [
        "grid.fit(df.drop('RespondidaNum',axis=1),df['RespondidaNum'])"
      ],
      "metadata": {
        "colab": {
          "base_uri": "https://localhost:8080/"
        },
        "id": "83-vHUn8LTRA",
        "outputId": "e2fde2bf-a71c-4d9f-ba22-0d2baf8cfd11"
      },
      "execution_count": 19,
      "outputs": [
        {
          "output_type": "execute_result",
          "data": {
            "text/plain": [
              "GridSearchCV(cv=5, estimator=KNeighborsClassifier(n_neighbors=23),\n",
              "             param_grid={'n_neighbors': [1, 2, 3, 4, 5, 6, 7, 8, 9, 10, 11, 12,\n",
              "                                         13, 14, 15, 16, 17, 18, 19, 20, 21, 22,\n",
              "                                         23, 24, 25, 26, 27, 28, 29, 30]},\n",
              "             scoring='accuracy')"
            ]
          },
          "metadata": {},
          "execution_count": 19
        }
      ]
    },
    {
      "cell_type": "code",
      "source": [
        "print(\"Melhores parametros {} com o valor de acurácia {} \".format(grid.best_params_,grid.best_score_))"
      ],
      "metadata": {
        "colab": {
          "base_uri": "https://localhost:8080/"
        },
        "id": "ysXvvX0YLgqS",
        "outputId": "47da1077-1040-40f9-a957-839fc818cb95"
      },
      "execution_count": 20,
      "outputs": [
        {
          "output_type": "stream",
          "name": "stdout",
          "text": [
            "Melhores parametros {'n_neighbors': 23} com o valor de acurácia 0.8529967509646361 \n"
          ]
        }
      ]
    },
    {
      "cell_type": "code",
      "source": [
        "score = plotar_grafico()"
      ],
      "metadata": {
        "id": "N8SFNIQv1LXW"
      },
      "execution_count": 21,
      "outputs": []
    },
    {
      "cell_type": "code",
      "source": [
        "print(score)"
      ],
      "metadata": {
        "colab": {
          "base_uri": "https://localhost:8080/"
        },
        "id": "SHKMbDOi8GXA",
        "outputId": "648eb1fa-b372-49b8-f1aa-7e6800005c7d"
      },
      "execution_count": 22,
      "outputs": [
        {
          "output_type": "stream",
          "name": "stdout",
          "text": [
            "[0.7971571611507606, 0.7260238696388351, 0.7949372635984526, 0.7521295727836466, 0.7968430050229276, 0.7733642758899172, 0.8247874804290328, 0.8008444962618985, 0.8247874804290328, 0.8247874804290328, 0.8295677297973274, 0.8295677297973274, 0.8295677297973274, 0.8295677297973274, 0.8426492094377732, 0.8426492094377732, 0.8426492094377732, 0.8426492094377732, 0.8426492094377732, 0.8426492094377732, 0.8426492094377732, 0.8426492094377732, 0.8529967509646361, 0.8529967509646361, 0.8529967509646361, 0.8529967509646361, 0.8529967509646361, 0.8529967509646361, 0.8529967509646361, 0.8529967509646361]\n"
          ]
        }
      ]
    },
    {
      "cell_type": "code",
      "source": [
        "plt.figure(figsize=(10,6))\n",
        "plt.plot(k_list,score,color='red',linestyle='dashed',marker='o')"
      ],
      "metadata": {
        "colab": {
          "base_uri": "https://localhost:8080/",
          "height": 391
        },
        "id": "KWA1EV8BLvRj",
        "outputId": "f4908419-616e-4c5b-f051-af8fb88cd96a"
      },
      "execution_count": 23,
      "outputs": [
        {
          "output_type": "execute_result",
          "data": {
            "text/plain": [
              "[<matplotlib.lines.Line2D at 0x7f3ccbf4e950>]"
            ]
          },
          "metadata": {},
          "execution_count": 23
        },
        {
          "output_type": "display_data",
          "data": {
            "image/png": "[encoded data removed]",
            "text/plain": [
              "<Figure size 720x432 with 1 Axes>"
            ]
          },
          "metadata": {
            "needs_background": "light"
          }
        }
      ]
    },
    {
      "cell_type": "markdown",
      "source": [
        "# **Fronteiras de complexidade**\n",
        "\n",
        "Ficar claro como funciona a parte de números de vizinhos. \\\\\n",
        "Enxergar a complexidade do modelo"
      ],
      "metadata": {
        "id": "RWbhbUHvTgMu"
      }
    },
    {
      "cell_type": "code",
      "source": [
        "df1 = df.drop('RespondidaNum',axis=1)"
      ],
      "metadata": {
        "id": "lFARuDchjXG3"
      },
      "execution_count": 33,
      "outputs": []
    },
    {
      "cell_type": "code",
      "source": [
        "df1 = df1.to_numpy()"
      ],
      "metadata": {
        "id": "v92P5thtkTKY"
      },
      "execution_count": 36,
      "outputs": []
    },
    {
      "cell_type": "code",
      "source": [
        "#Seleção de dados\n",
        "x = df1[:,[0,3]]\n",
        "y = df['RespondidaNum'].to_numpy()"
      ],
      "metadata": {
        "id": "9v9pWpEZTfoy"
      },
      "execution_count": 46,
      "outputs": []
    },
    {
      "cell_type": "code",
      "source": [
        "#Função para plot de fronteiras de acordo com o número de vizinhos\n",
        "\n",
        "def plot_fronteiras(n_vizinhos):\n",
        "  classifier = KNeighborsClassifier(n_neighbors=n_vizinhos)\n",
        "  classifier.fit(x,y)\n",
        "  plt.figure(figsize=(10,6))\n",
        "  plot_decision_regions(x,y,clf=classifier,legend=2)\n",
        "  plt.title('Fronteiras de complexidade - KNeighbors')"
      ],
      "metadata": {
        "id": "53a9g3NGT6Xd"
      },
      "execution_count": 47,
      "outputs": []
    },
    {
      "cell_type": "code",
      "source": [
        "plot_fronteiras(30)"
      ],
      "metadata": {
        "colab": {
          "base_uri": "https://localhost:8080/",
          "height": 390
        },
        "id": "RDIK_Xq1UzqZ",
        "outputId": "409ebb0a-e2be-4558-bcdd-72c6005b82f0"
      },
      "execution_count": 48,
      "outputs": [
        {
          "output_type": "display_data",
          "data": {
            "image/png": "[encoded data removed]",
            "text/plain": [
              "<Figure size 720x432 with 1 Axes>"
            ]
          },
          "metadata": {
            "needs_background": "light"
          }
        }
      ]
    }
  ]
}